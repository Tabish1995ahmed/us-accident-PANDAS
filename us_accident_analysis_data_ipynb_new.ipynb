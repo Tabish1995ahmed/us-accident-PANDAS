{
  "cells": [
    {
      "cell_type": "markdown",
      "metadata": {
        "id": "Cjq4PjiRG2YM"
      },
      "source": [
        "# us-accident-analysis-data\n",
        "\n",
        "Use the \"Run\" button to execute the code."
      ]
    },
    {
      "cell_type": "code",
      "execution_count": 6,
      "metadata": {
        "id": "XIfkwwNuG2YO",
        "colab": {
          "base_uri": "https://localhost:8080/"
        },
        "outputId": "dd8d3307-0187-4f31-fbaf-90e495f7e3ad"
      },
      "outputs": [
        {
          "output_type": "stream",
          "name": "stdout",
          "text": [
            "\u001b[?25l\r\u001b[K     |████▊                           | 10 kB 24.8 MB/s eta 0:00:01\r\u001b[K     |█████████▌                      | 20 kB 7.4 MB/s eta 0:00:01\r\u001b[K     |██████████████▎                 | 30 kB 10.3 MB/s eta 0:00:01\r\u001b[K     |███████████████████             | 40 kB 4.6 MB/s eta 0:00:01\r\u001b[K     |███████████████████████▉        | 51 kB 4.2 MB/s eta 0:00:01\r\u001b[K     |████████████████████████████▋   | 61 kB 5.0 MB/s eta 0:00:01\r\u001b[K     |████████████████████████████████| 68 kB 3.0 MB/s \n",
            "\u001b[?25h  Building wheel for uuid (setup.py) ... \u001b[?25l\u001b[?25hdone\n"
          ]
        }
      ],
      "source": [
        "\n",
        "!pip install jovian --upgrade -q"
      ]
    },
    {
      "cell_type": "code",
      "source": [
        "import jovian\n",
        "jovian.set_project('us-accidents-analysis')\n",
        "jovian.set_colab_id('3d425c76e1e437d840227c77ac0774a9')"
      ],
      "metadata": {
        "id": "ZkTSep2KHijH"
      },
      "execution_count": 7,
      "outputs": []
    },
    {
      "cell_type": "code",
      "source": [
        "pip install opendatasets --upgrade --quiet"
      ],
      "metadata": {
        "id": "WFzAV0jXIous"
      },
      "execution_count": 8,
      "outputs": []
    },
    {
      "cell_type": "code",
      "source": [
        "import opendatasets as od\n",
        "dataset_url = 'https://www.kaggle.com/datasets/sobhanmoosavi/us-accidents'\n",
        "od.download('https://www.kaggle.com/datasets/sobhanmoosavi/us-accidents')"
      ],
      "metadata": {
        "colab": {
          "base_uri": "https://localhost:8080/"
        },
        "id": "A7mbDz1gIsYj",
        "outputId": "f9548490-4f8a-455e-d7c2-93c93e632a53"
      },
      "execution_count": 9,
      "outputs": [
        {
          "output_type": "stream",
          "name": "stdout",
          "text": [
            "Please provide your Kaggle credentials to download this dataset. Learn more: http://bit.ly/kaggle-creds\n",
            "Your Kaggle username: tabishsheikh03\n",
            "Your Kaggle Key: ··········\n",
            "Downloading us-accidents.zip to ./us-accidents\n"
          ]
        },
        {
          "output_type": "stream",
          "name": "stderr",
          "text": [
            "100%|██████████| 269M/269M [00:03<00:00, 84.1MB/s]\n"
          ]
        },
        {
          "output_type": "stream",
          "name": "stdout",
          "text": [
            "\n"
          ]
        }
      ]
    },
    {
      "cell_type": "code",
      "source": [
        "data_filename = './us-accidents/US_Accidents_Dec21_updated.csv'"
      ],
      "metadata": {
        "id": "qWzBoVtlIy1z"
      },
      "execution_count": 10,
      "outputs": []
    },
    {
      "cell_type": "code",
      "source": [
        "import pandas as pd\n"
      ],
      "metadata": {
        "id": "ZXuGUWZzKEVw"
      },
      "execution_count": 11,
      "outputs": []
    },
    {
      "cell_type": "code",
      "source": [
        "df = pd.read_csv(data_filename)"
      ],
      "metadata": {
        "id": "sialq_U_KG74"
      },
      "execution_count": 12,
      "outputs": []
    },
    {
      "cell_type": "code",
      "source": [
        "df"
      ],
      "metadata": {
        "colab": {
          "base_uri": "https://localhost:8080/",
          "height": 939
        },
        "id": "1srlBAyIKJV3",
        "outputId": "03ea543a-81e9-401d-aa07-bc57722952ea"
      },
      "execution_count": 13,
      "outputs": [
        {
          "output_type": "execute_result",
          "data": {
            "text/plain": [
              "                ID  Severity           Start_Time             End_Time  \\\n",
              "0              A-1         3  2016-02-08 00:37:08  2016-02-08 06:37:08   \n",
              "1              A-2         2  2016-02-08 05:56:20  2016-02-08 11:56:20   \n",
              "2              A-3         2  2016-02-08 06:15:39  2016-02-08 12:15:39   \n",
              "3              A-4         2  2016-02-08 06:51:45  2016-02-08 12:51:45   \n",
              "4              A-5         3  2016-02-08 07:53:43  2016-02-08 13:53:43   \n",
              "...            ...       ...                  ...                  ...   \n",
              "2845337  A-2845338         2  2019-08-23 18:03:25  2019-08-23 18:32:01   \n",
              "2845338  A-2845339         2  2019-08-23 19:11:30  2019-08-23 19:38:23   \n",
              "2845339  A-2845340         2  2019-08-23 19:00:21  2019-08-23 19:28:49   \n",
              "2845340  A-2845341         2  2019-08-23 19:00:21  2019-08-23 19:29:42   \n",
              "2845341  A-2845342         2  2019-08-23 18:52:06  2019-08-23 19:21:31   \n",
              "\n",
              "         Start_Lat   Start_Lng    End_Lat     End_Lng  Distance(mi)  \\\n",
              "0        40.108910  -83.092860  40.112060  -83.031870         3.230   \n",
              "1        39.865420  -84.062800  39.865010  -84.048730         0.747   \n",
              "2        39.102660  -84.524680  39.102090  -84.523960         0.055   \n",
              "3        41.062130  -81.537840  41.062170  -81.535470         0.123   \n",
              "4        39.172393  -84.492792  39.170476  -84.501798         0.500   \n",
              "...            ...         ...        ...         ...           ...   \n",
              "2845337  34.002480 -117.379360  33.998880 -117.370940         0.543   \n",
              "2845338  32.766960 -117.148060  32.765550 -117.153630         0.338   \n",
              "2845339  33.775450 -117.847790  33.777400 -117.857270         0.561   \n",
              "2845340  33.992460 -118.403020  33.983110 -118.395650         0.772   \n",
              "2845341  34.133930 -117.230920  34.137360 -117.239340         0.537   \n",
              "\n",
              "                                               Description  ...  Roundabout  \\\n",
              "0        Between Sawmill Rd/Exit 20 and OH-315/Olentang...  ...       False   \n",
              "1                       At OH-4/OH-235/Exit 41 - Accident.  ...       False   \n",
              "2                         At I-71/US-50/Exit 1 - Accident.  ...       False   \n",
              "3                          At Dart Ave/Exit 21 - Accident.  ...       False   \n",
              "4                       At Mitchell Ave/Exit 6 - Accident.  ...       False   \n",
              "...                                                    ...  ...         ...   \n",
              "2845337                           At Market St - Accident.  ...       False   \n",
              "2845338    At Camino Del Rio/Mission Center Rd - Accident.  ...       False   \n",
              "2845339  At Glassell St/Grand Ave - Accident. in the ri...  ...       False   \n",
              "2845340     At CA-90/Marina Fwy/Jefferson Blvd - Accident.  ...       False   \n",
              "2845341              At Highland Ave/Arden Ave - Accident.  ...       False   \n",
              "\n",
              "        Station   Stop Traffic_Calming Traffic_Signal Turning_Loop  \\\n",
              "0         False  False           False          False        False   \n",
              "1         False  False           False          False        False   \n",
              "2         False  False           False          False        False   \n",
              "3         False  False           False          False        False   \n",
              "4         False  False           False          False        False   \n",
              "...         ...    ...             ...            ...          ...   \n",
              "2845337   False  False           False          False        False   \n",
              "2845338   False  False           False          False        False   \n",
              "2845339   False  False           False          False        False   \n",
              "2845340   False  False           False          False        False   \n",
              "2845341   False  False           False          False        False   \n",
              "\n",
              "        Sunrise_Sunset Civil_Twilight Nautical_Twilight Astronomical_Twilight  \n",
              "0                Night          Night             Night                 Night  \n",
              "1                Night          Night             Night                 Night  \n",
              "2                Night          Night             Night                   Day  \n",
              "3                Night          Night               Day                   Day  \n",
              "4                  Day            Day               Day                   Day  \n",
              "...                ...            ...               ...                   ...  \n",
              "2845337            Day            Day               Day                   Day  \n",
              "2845338            Day            Day               Day                   Day  \n",
              "2845339            Day            Day               Day                   Day  \n",
              "2845340            Day            Day               Day                   Day  \n",
              "2845341            Day            Day               Day                   Day  \n",
              "\n",
              "[2845342 rows x 47 columns]"
            ],
            "text/html": [
              "\n",
              "  <div id=\"df-51f78087-ed51-4e19-a527-71560ffd1503\">\n",
              "    <div class=\"colab-df-container\">\n",
              "      <div>\n",
              "<style scoped>\n",
              "    .dataframe tbody tr th:only-of-type {\n",
              "        vertical-align: middle;\n",
              "    }\n",
              "\n",
              "    .dataframe tbody tr th {\n",
              "        vertical-align: top;\n",
              "    }\n",
              "\n",
              "    .dataframe thead th {\n",
              "        text-align: right;\n",
              "    }\n",
              "</style>\n",
              "<table border=\"1\" class=\"dataframe\">\n",
              "  <thead>\n",
              "    <tr style=\"text-align: right;\">\n",
              "      <th></th>\n",
              "      <th>ID</th>\n",
              "      <th>Severity</th>\n",
              "      <th>Start_Time</th>\n",
              "      <th>End_Time</th>\n",
              "      <th>Start_Lat</th>\n",
              "      <th>Start_Lng</th>\n",
              "      <th>End_Lat</th>\n",
              "      <th>End_Lng</th>\n",
              "      <th>Distance(mi)</th>\n",
              "      <th>Description</th>\n",
              "      <th>...</th>\n",
              "      <th>Roundabout</th>\n",
              "      <th>Station</th>\n",
              "      <th>Stop</th>\n",
              "      <th>Traffic_Calming</th>\n",
              "      <th>Traffic_Signal</th>\n",
              "      <th>Turning_Loop</th>\n",
              "      <th>Sunrise_Sunset</th>\n",
              "      <th>Civil_Twilight</th>\n",
              "      <th>Nautical_Twilight</th>\n",
              "      <th>Astronomical_Twilight</th>\n",
              "    </tr>\n",
              "  </thead>\n",
              "  <tbody>\n",
              "    <tr>\n",
              "      <th>0</th>\n",
              "      <td>A-1</td>\n",
              "      <td>3</td>\n",
              "      <td>2016-02-08 00:37:08</td>\n",
              "      <td>2016-02-08 06:37:08</td>\n",
              "      <td>40.108910</td>\n",
              "      <td>-83.092860</td>\n",
              "      <td>40.112060</td>\n",
              "      <td>-83.031870</td>\n",
              "      <td>3.230</td>\n",
              "      <td>Between Sawmill Rd/Exit 20 and OH-315/Olentang...</td>\n",
              "      <td>...</td>\n",
              "      <td>False</td>\n",
              "      <td>False</td>\n",
              "      <td>False</td>\n",
              "      <td>False</td>\n",
              "      <td>False</td>\n",
              "      <td>False</td>\n",
              "      <td>Night</td>\n",
              "      <td>Night</td>\n",
              "      <td>Night</td>\n",
              "      <td>Night</td>\n",
              "    </tr>\n",
              "    <tr>\n",
              "      <th>1</th>\n",
              "      <td>A-2</td>\n",
              "      <td>2</td>\n",
              "      <td>2016-02-08 05:56:20</td>\n",
              "      <td>2016-02-08 11:56:20</td>\n",
              "      <td>39.865420</td>\n",
              "      <td>-84.062800</td>\n",
              "      <td>39.865010</td>\n",
              "      <td>-84.048730</td>\n",
              "      <td>0.747</td>\n",
              "      <td>At OH-4/OH-235/Exit 41 - Accident.</td>\n",
              "      <td>...</td>\n",
              "      <td>False</td>\n",
              "      <td>False</td>\n",
              "      <td>False</td>\n",
              "      <td>False</td>\n",
              "      <td>False</td>\n",
              "      <td>False</td>\n",
              "      <td>Night</td>\n",
              "      <td>Night</td>\n",
              "      <td>Night</td>\n",
              "      <td>Night</td>\n",
              "    </tr>\n",
              "    <tr>\n",
              "      <th>2</th>\n",
              "      <td>A-3</td>\n",
              "      <td>2</td>\n",
              "      <td>2016-02-08 06:15:39</td>\n",
              "      <td>2016-02-08 12:15:39</td>\n",
              "      <td>39.102660</td>\n",
              "      <td>-84.524680</td>\n",
              "      <td>39.102090</td>\n",
              "      <td>-84.523960</td>\n",
              "      <td>0.055</td>\n",
              "      <td>At I-71/US-50/Exit 1 - Accident.</td>\n",
              "      <td>...</td>\n",
              "      <td>False</td>\n",
              "      <td>False</td>\n",
              "      <td>False</td>\n",
              "      <td>False</td>\n",
              "      <td>False</td>\n",
              "      <td>False</td>\n",
              "      <td>Night</td>\n",
              "      <td>Night</td>\n",
              "      <td>Night</td>\n",
              "      <td>Day</td>\n",
              "    </tr>\n",
              "    <tr>\n",
              "      <th>3</th>\n",
              "      <td>A-4</td>\n",
              "      <td>2</td>\n",
              "      <td>2016-02-08 06:51:45</td>\n",
              "      <td>2016-02-08 12:51:45</td>\n",
              "      <td>41.062130</td>\n",
              "      <td>-81.537840</td>\n",
              "      <td>41.062170</td>\n",
              "      <td>-81.535470</td>\n",
              "      <td>0.123</td>\n",
              "      <td>At Dart Ave/Exit 21 - Accident.</td>\n",
              "      <td>...</td>\n",
              "      <td>False</td>\n",
              "      <td>False</td>\n",
              "      <td>False</td>\n",
              "      <td>False</td>\n",
              "      <td>False</td>\n",
              "      <td>False</td>\n",
              "      <td>Night</td>\n",
              "      <td>Night</td>\n",
              "      <td>Day</td>\n",
              "      <td>Day</td>\n",
              "    </tr>\n",
              "    <tr>\n",
              "      <th>4</th>\n",
              "      <td>A-5</td>\n",
              "      <td>3</td>\n",
              "      <td>2016-02-08 07:53:43</td>\n",
              "      <td>2016-02-08 13:53:43</td>\n",
              "      <td>39.172393</td>\n",
              "      <td>-84.492792</td>\n",
              "      <td>39.170476</td>\n",
              "      <td>-84.501798</td>\n",
              "      <td>0.500</td>\n",
              "      <td>At Mitchell Ave/Exit 6 - Accident.</td>\n",
              "      <td>...</td>\n",
              "      <td>False</td>\n",
              "      <td>False</td>\n",
              "      <td>False</td>\n",
              "      <td>False</td>\n",
              "      <td>False</td>\n",
              "      <td>False</td>\n",
              "      <td>Day</td>\n",
              "      <td>Day</td>\n",
              "      <td>Day</td>\n",
              "      <td>Day</td>\n",
              "    </tr>\n",
              "    <tr>\n",
              "      <th>...</th>\n",
              "      <td>...</td>\n",
              "      <td>...</td>\n",
              "      <td>...</td>\n",
              "      <td>...</td>\n",
              "      <td>...</td>\n",
              "      <td>...</td>\n",
              "      <td>...</td>\n",
              "      <td>...</td>\n",
              "      <td>...</td>\n",
              "      <td>...</td>\n",
              "      <td>...</td>\n",
              "      <td>...</td>\n",
              "      <td>...</td>\n",
              "      <td>...</td>\n",
              "      <td>...</td>\n",
              "      <td>...</td>\n",
              "      <td>...</td>\n",
              "      <td>...</td>\n",
              "      <td>...</td>\n",
              "      <td>...</td>\n",
              "      <td>...</td>\n",
              "    </tr>\n",
              "    <tr>\n",
              "      <th>2845337</th>\n",
              "      <td>A-2845338</td>\n",
              "      <td>2</td>\n",
              "      <td>2019-08-23 18:03:25</td>\n",
              "      <td>2019-08-23 18:32:01</td>\n",
              "      <td>34.002480</td>\n",
              "      <td>-117.379360</td>\n",
              "      <td>33.998880</td>\n",
              "      <td>-117.370940</td>\n",
              "      <td>0.543</td>\n",
              "      <td>At Market St - Accident.</td>\n",
              "      <td>...</td>\n",
              "      <td>False</td>\n",
              "      <td>False</td>\n",
              "      <td>False</td>\n",
              "      <td>False</td>\n",
              "      <td>False</td>\n",
              "      <td>False</td>\n",
              "      <td>Day</td>\n",
              "      <td>Day</td>\n",
              "      <td>Day</td>\n",
              "      <td>Day</td>\n",
              "    </tr>\n",
              "    <tr>\n",
              "      <th>2845338</th>\n",
              "      <td>A-2845339</td>\n",
              "      <td>2</td>\n",
              "      <td>2019-08-23 19:11:30</td>\n",
              "      <td>2019-08-23 19:38:23</td>\n",
              "      <td>32.766960</td>\n",
              "      <td>-117.148060</td>\n",
              "      <td>32.765550</td>\n",
              "      <td>-117.153630</td>\n",
              "      <td>0.338</td>\n",
              "      <td>At Camino Del Rio/Mission Center Rd - Accident.</td>\n",
              "      <td>...</td>\n",
              "      <td>False</td>\n",
              "      <td>False</td>\n",
              "      <td>False</td>\n",
              "      <td>False</td>\n",
              "      <td>False</td>\n",
              "      <td>False</td>\n",
              "      <td>Day</td>\n",
              "      <td>Day</td>\n",
              "      <td>Day</td>\n",
              "      <td>Day</td>\n",
              "    </tr>\n",
              "    <tr>\n",
              "      <th>2845339</th>\n",
              "      <td>A-2845340</td>\n",
              "      <td>2</td>\n",
              "      <td>2019-08-23 19:00:21</td>\n",
              "      <td>2019-08-23 19:28:49</td>\n",
              "      <td>33.775450</td>\n",
              "      <td>-117.847790</td>\n",
              "      <td>33.777400</td>\n",
              "      <td>-117.857270</td>\n",
              "      <td>0.561</td>\n",
              "      <td>At Glassell St/Grand Ave - Accident. in the ri...</td>\n",
              "      <td>...</td>\n",
              "      <td>False</td>\n",
              "      <td>False</td>\n",
              "      <td>False</td>\n",
              "      <td>False</td>\n",
              "      <td>False</td>\n",
              "      <td>False</td>\n",
              "      <td>Day</td>\n",
              "      <td>Day</td>\n",
              "      <td>Day</td>\n",
              "      <td>Day</td>\n",
              "    </tr>\n",
              "    <tr>\n",
              "      <th>2845340</th>\n",
              "      <td>A-2845341</td>\n",
              "      <td>2</td>\n",
              "      <td>2019-08-23 19:00:21</td>\n",
              "      <td>2019-08-23 19:29:42</td>\n",
              "      <td>33.992460</td>\n",
              "      <td>-118.403020</td>\n",
              "      <td>33.983110</td>\n",
              "      <td>-118.395650</td>\n",
              "      <td>0.772</td>\n",
              "      <td>At CA-90/Marina Fwy/Jefferson Blvd - Accident.</td>\n",
              "      <td>...</td>\n",
              "      <td>False</td>\n",
              "      <td>False</td>\n",
              "      <td>False</td>\n",
              "      <td>False</td>\n",
              "      <td>False</td>\n",
              "      <td>False</td>\n",
              "      <td>Day</td>\n",
              "      <td>Day</td>\n",
              "      <td>Day</td>\n",
              "      <td>Day</td>\n",
              "    </tr>\n",
              "    <tr>\n",
              "      <th>2845341</th>\n",
              "      <td>A-2845342</td>\n",
              "      <td>2</td>\n",
              "      <td>2019-08-23 18:52:06</td>\n",
              "      <td>2019-08-23 19:21:31</td>\n",
              "      <td>34.133930</td>\n",
              "      <td>-117.230920</td>\n",
              "      <td>34.137360</td>\n",
              "      <td>-117.239340</td>\n",
              "      <td>0.537</td>\n",
              "      <td>At Highland Ave/Arden Ave - Accident.</td>\n",
              "      <td>...</td>\n",
              "      <td>False</td>\n",
              "      <td>False</td>\n",
              "      <td>False</td>\n",
              "      <td>False</td>\n",
              "      <td>False</td>\n",
              "      <td>False</td>\n",
              "      <td>Day</td>\n",
              "      <td>Day</td>\n",
              "      <td>Day</td>\n",
              "      <td>Day</td>\n",
              "    </tr>\n",
              "  </tbody>\n",
              "</table>\n",
              "<p>2845342 rows × 47 columns</p>\n",
              "</div>\n",
              "      <button class=\"colab-df-convert\" onclick=\"convertToInteractive('df-51f78087-ed51-4e19-a527-71560ffd1503')\"\n",
              "              title=\"Convert this dataframe to an interactive table.\"\n",
              "              style=\"display:none;\">\n",
              "        \n",
              "  <svg xmlns=\"http://www.w3.org/2000/svg\" height=\"24px\"viewBox=\"0 0 24 24\"\n",
              "       width=\"24px\">\n",
              "    <path d=\"M0 0h24v24H0V0z\" fill=\"none\"/>\n",
              "    <path d=\"M18.56 5.44l.94 2.06.94-2.06 2.06-.94-2.06-.94-.94-2.06-.94 2.06-2.06.94zm-11 1L8.5 8.5l.94-2.06 2.06-.94-2.06-.94L8.5 2.5l-.94 2.06-2.06.94zm10 10l.94 2.06.94-2.06 2.06-.94-2.06-.94-.94-2.06-.94 2.06-2.06.94z\"/><path d=\"M17.41 7.96l-1.37-1.37c-.4-.4-.92-.59-1.43-.59-.52 0-1.04.2-1.43.59L10.3 9.45l-7.72 7.72c-.78.78-.78 2.05 0 2.83L4 21.41c.39.39.9.59 1.41.59.51 0 1.02-.2 1.41-.59l7.78-7.78 2.81-2.81c.8-.78.8-2.07 0-2.86zM5.41 20L4 18.59l7.72-7.72 1.47 1.35L5.41 20z\"/>\n",
              "  </svg>\n",
              "      </button>\n",
              "      \n",
              "  <style>\n",
              "    .colab-df-container {\n",
              "      display:flex;\n",
              "      flex-wrap:wrap;\n",
              "      gap: 12px;\n",
              "    }\n",
              "\n",
              "    .colab-df-convert {\n",
              "      background-color: #E8F0FE;\n",
              "      border: none;\n",
              "      border-radius: 50%;\n",
              "      cursor: pointer;\n",
              "      display: none;\n",
              "      fill: #1967D2;\n",
              "      height: 32px;\n",
              "      padding: 0 0 0 0;\n",
              "      width: 32px;\n",
              "    }\n",
              "\n",
              "    .colab-df-convert:hover {\n",
              "      background-color: #E2EBFA;\n",
              "      box-shadow: 0px 1px 2px rgba(60, 64, 67, 0.3), 0px 1px 3px 1px rgba(60, 64, 67, 0.15);\n",
              "      fill: #174EA6;\n",
              "    }\n",
              "\n",
              "    [theme=dark] .colab-df-convert {\n",
              "      background-color: #3B4455;\n",
              "      fill: #D2E3FC;\n",
              "    }\n",
              "\n",
              "    [theme=dark] .colab-df-convert:hover {\n",
              "      background-color: #434B5C;\n",
              "      box-shadow: 0px 1px 3px 1px rgba(0, 0, 0, 0.15);\n",
              "      filter: drop-shadow(0px 1px 2px rgba(0, 0, 0, 0.3));\n",
              "      fill: #FFFFFF;\n",
              "    }\n",
              "  </style>\n",
              "\n",
              "      <script>\n",
              "        const buttonEl =\n",
              "          document.querySelector('#df-51f78087-ed51-4e19-a527-71560ffd1503 button.colab-df-convert');\n",
              "        buttonEl.style.display =\n",
              "          google.colab.kernel.accessAllowed ? 'block' : 'none';\n",
              "\n",
              "        async function convertToInteractive(key) {\n",
              "          const element = document.querySelector('#df-51f78087-ed51-4e19-a527-71560ffd1503');\n",
              "          const dataTable =\n",
              "            await google.colab.kernel.invokeFunction('convertToInteractive',\n",
              "                                                     [key], {});\n",
              "          if (!dataTable) return;\n",
              "\n",
              "          const docLinkHtml = 'Like what you see? Visit the ' +\n",
              "            '<a target=\"_blank\" href=https://colab.research.google.com/notebooks/data_table.ipynb>data table notebook</a>'\n",
              "            + ' to learn more about interactive tables.';\n",
              "          element.innerHTML = '';\n",
              "          dataTable['output_type'] = 'display_data';\n",
              "          await google.colab.output.renderOutput(dataTable, element);\n",
              "          const docLink = document.createElement('div');\n",
              "          docLink.innerHTML = docLinkHtml;\n",
              "          element.appendChild(docLink);\n",
              "        }\n",
              "      </script>\n",
              "    </div>\n",
              "  </div>\n",
              "  "
            ]
          },
          "metadata": {},
          "execution_count": 13
        }
      ]
    },
    {
      "cell_type": "code",
      "source": [
        "df.columns\n"
      ],
      "metadata": {
        "colab": {
          "base_uri": "https://localhost:8080/"
        },
        "id": "6ze9cG1ZKU4Y",
        "outputId": "21b36a96-0f85-479f-b129-989fa59767a9"
      },
      "execution_count": 14,
      "outputs": [
        {
          "output_type": "execute_result",
          "data": {
            "text/plain": [
              "Index(['ID', 'Severity', 'Start_Time', 'End_Time', 'Start_Lat', 'Start_Lng',\n",
              "       'End_Lat', 'End_Lng', 'Distance(mi)', 'Description', 'Number', 'Street',\n",
              "       'Side', 'City', 'County', 'State', 'Zipcode', 'Country', 'Timezone',\n",
              "       'Airport_Code', 'Weather_Timestamp', 'Temperature(F)', 'Wind_Chill(F)',\n",
              "       'Humidity(%)', 'Pressure(in)', 'Visibility(mi)', 'Wind_Direction',\n",
              "       'Wind_Speed(mph)', 'Precipitation(in)', 'Weather_Condition', 'Amenity',\n",
              "       'Bump', 'Crossing', 'Give_Way', 'Junction', 'No_Exit', 'Railway',\n",
              "       'Roundabout', 'Station', 'Stop', 'Traffic_Calming', 'Traffic_Signal',\n",
              "       'Turning_Loop', 'Sunrise_Sunset', 'Civil_Twilight', 'Nautical_Twilight',\n",
              "       'Astronomical_Twilight'],\n",
              "      dtype='object')"
            ]
          },
          "metadata": {},
          "execution_count": 14
        }
      ]
    },
    {
      "cell_type": "code",
      "source": [
        "df.info()\n",
        "\n",
        "\n"
      ],
      "metadata": {
        "colab": {
          "base_uri": "https://localhost:8080/"
        },
        "id": "0849P_14U-Es",
        "outputId": "6d9ddb72-239f-44c7-a16d-8b48f09888c3"
      },
      "execution_count": 15,
      "outputs": [
        {
          "output_type": "stream",
          "name": "stdout",
          "text": [
            "<class 'pandas.core.frame.DataFrame'>\n",
            "RangeIndex: 2845342 entries, 0 to 2845341\n",
            "Data columns (total 47 columns):\n",
            " #   Column                 Dtype  \n",
            "---  ------                 -----  \n",
            " 0   ID                     object \n",
            " 1   Severity               int64  \n",
            " 2   Start_Time             object \n",
            " 3   End_Time               object \n",
            " 4   Start_Lat              float64\n",
            " 5   Start_Lng              float64\n",
            " 6   End_Lat                float64\n",
            " 7   End_Lng                float64\n",
            " 8   Distance(mi)           float64\n",
            " 9   Description            object \n",
            " 10  Number                 float64\n",
            " 11  Street                 object \n",
            " 12  Side                   object \n",
            " 13  City                   object \n",
            " 14  County                 object \n",
            " 15  State                  object \n",
            " 16  Zipcode                object \n",
            " 17  Country                object \n",
            " 18  Timezone               object \n",
            " 19  Airport_Code           object \n",
            " 20  Weather_Timestamp      object \n",
            " 21  Temperature(F)         float64\n",
            " 22  Wind_Chill(F)          float64\n",
            " 23  Humidity(%)            float64\n",
            " 24  Pressure(in)           float64\n",
            " 25  Visibility(mi)         float64\n",
            " 26  Wind_Direction         object \n",
            " 27  Wind_Speed(mph)        float64\n",
            " 28  Precipitation(in)      float64\n",
            " 29  Weather_Condition      object \n",
            " 30  Amenity                bool   \n",
            " 31  Bump                   bool   \n",
            " 32  Crossing               bool   \n",
            " 33  Give_Way               bool   \n",
            " 34  Junction               bool   \n",
            " 35  No_Exit                bool   \n",
            " 36  Railway                bool   \n",
            " 37  Roundabout             bool   \n",
            " 38  Station                bool   \n",
            " 39  Stop                   bool   \n",
            " 40  Traffic_Calming        bool   \n",
            " 41  Traffic_Signal         bool   \n",
            " 42  Turning_Loop           bool   \n",
            " 43  Sunrise_Sunset         object \n",
            " 44  Civil_Twilight         object \n",
            " 45  Nautical_Twilight      object \n",
            " 46  Astronomical_Twilight  object \n",
            "dtypes: bool(13), float64(13), int64(1), object(20)\n",
            "memory usage: 773.4+ MB\n"
          ]
        }
      ]
    },
    {
      "cell_type": "code",
      "source": [
        "df.describe()"
      ],
      "metadata": {
        "colab": {
          "base_uri": "https://localhost:8080/",
          "height": 300
        },
        "id": "pGZYUkcNU_lT",
        "outputId": "479b04af-e9c1-4085-d4b3-108f0452f1ba"
      },
      "execution_count": 16,
      "outputs": [
        {
          "output_type": "execute_result",
          "data": {
            "text/plain": [
              "           Severity     Start_Lat     Start_Lng       End_Lat       End_Lng  \\\n",
              "count  2.845342e+06  2.845342e+06  2.845342e+06  2.845342e+06  2.845342e+06   \n",
              "mean   2.137572e+00  3.624520e+01 -9.711463e+01  3.624532e+01 -9.711439e+01   \n",
              "std    4.787216e-01  5.363797e+00  1.831782e+01  5.363873e+00  1.831763e+01   \n",
              "min    1.000000e+00  2.456603e+01 -1.245481e+02  2.456601e+01 -1.245457e+02   \n",
              "25%    2.000000e+00  3.344517e+01 -1.180331e+02  3.344628e+01 -1.180333e+02   \n",
              "50%    2.000000e+00  3.609861e+01 -9.241808e+01  3.609799e+01 -9.241772e+01   \n",
              "75%    2.000000e+00  4.016024e+01 -8.037243e+01  4.016105e+01 -8.037338e+01   \n",
              "max    4.000000e+00  4.900058e+01 -6.711317e+01  4.907500e+01 -6.710924e+01   \n",
              "\n",
              "       Distance(mi)        Number  Temperature(F)  Wind_Chill(F)  \\\n",
              "count  2.845342e+06  1.101431e+06    2.776068e+06   2.375699e+06   \n",
              "mean   7.026779e-01  8.089408e+03    6.179356e+01   5.965823e+01   \n",
              "std    1.560361e+00  1.836009e+04    1.862263e+01   2.116097e+01   \n",
              "min    0.000000e+00  0.000000e+00   -8.900000e+01  -8.900000e+01   \n",
              "25%    5.200000e-02  1.270000e+03    5.000000e+01   4.600000e+01   \n",
              "50%    2.440000e-01  4.007000e+03    6.400000e+01   6.300000e+01   \n",
              "75%    7.640000e-01  9.567000e+03    7.600000e+01   7.600000e+01   \n",
              "max    1.551860e+02  9.999997e+06    1.960000e+02   1.960000e+02   \n",
              "\n",
              "        Humidity(%)  Pressure(in)  Visibility(mi)  Wind_Speed(mph)  \\\n",
              "count  2.772250e+06  2.786142e+06    2.774796e+06     2.687398e+06   \n",
              "mean   6.436545e+01  2.947234e+01    9.099391e+00     7.395044e+00   \n",
              "std    2.287457e+01  1.045286e+00    2.717546e+00     5.527454e+00   \n",
              "min    1.000000e+00  0.000000e+00    0.000000e+00     0.000000e+00   \n",
              "25%    4.800000e+01  2.931000e+01    1.000000e+01     3.500000e+00   \n",
              "50%    6.700000e+01  2.982000e+01    1.000000e+01     7.000000e+00   \n",
              "75%    8.300000e+01  3.001000e+01    1.000000e+01     1.000000e+01   \n",
              "max    1.000000e+02  5.890000e+01    1.400000e+02     1.087000e+03   \n",
              "\n",
              "       Precipitation(in)  \n",
              "count       2.295884e+06  \n",
              "mean        7.016940e-03  \n",
              "std         9.348831e-02  \n",
              "min         0.000000e+00  \n",
              "25%         0.000000e+00  \n",
              "50%         0.000000e+00  \n",
              "75%         0.000000e+00  \n",
              "max         2.400000e+01  "
            ],
            "text/html": [
              "\n",
              "  <div id=\"df-45608fa4-e09c-4810-bd10-d01d78d72621\">\n",
              "    <div class=\"colab-df-container\">\n",
              "      <div>\n",
              "<style scoped>\n",
              "    .dataframe tbody tr th:only-of-type {\n",
              "        vertical-align: middle;\n",
              "    }\n",
              "\n",
              "    .dataframe tbody tr th {\n",
              "        vertical-align: top;\n",
              "    }\n",
              "\n",
              "    .dataframe thead th {\n",
              "        text-align: right;\n",
              "    }\n",
              "</style>\n",
              "<table border=\"1\" class=\"dataframe\">\n",
              "  <thead>\n",
              "    <tr style=\"text-align: right;\">\n",
              "      <th></th>\n",
              "      <th>Severity</th>\n",
              "      <th>Start_Lat</th>\n",
              "      <th>Start_Lng</th>\n",
              "      <th>End_Lat</th>\n",
              "      <th>End_Lng</th>\n",
              "      <th>Distance(mi)</th>\n",
              "      <th>Number</th>\n",
              "      <th>Temperature(F)</th>\n",
              "      <th>Wind_Chill(F)</th>\n",
              "      <th>Humidity(%)</th>\n",
              "      <th>Pressure(in)</th>\n",
              "      <th>Visibility(mi)</th>\n",
              "      <th>Wind_Speed(mph)</th>\n",
              "      <th>Precipitation(in)</th>\n",
              "    </tr>\n",
              "  </thead>\n",
              "  <tbody>\n",
              "    <tr>\n",
              "      <th>count</th>\n",
              "      <td>2.845342e+06</td>\n",
              "      <td>2.845342e+06</td>\n",
              "      <td>2.845342e+06</td>\n",
              "      <td>2.845342e+06</td>\n",
              "      <td>2.845342e+06</td>\n",
              "      <td>2.845342e+06</td>\n",
              "      <td>1.101431e+06</td>\n",
              "      <td>2.776068e+06</td>\n",
              "      <td>2.375699e+06</td>\n",
              "      <td>2.772250e+06</td>\n",
              "      <td>2.786142e+06</td>\n",
              "      <td>2.774796e+06</td>\n",
              "      <td>2.687398e+06</td>\n",
              "      <td>2.295884e+06</td>\n",
              "    </tr>\n",
              "    <tr>\n",
              "      <th>mean</th>\n",
              "      <td>2.137572e+00</td>\n",
              "      <td>3.624520e+01</td>\n",
              "      <td>-9.711463e+01</td>\n",
              "      <td>3.624532e+01</td>\n",
              "      <td>-9.711439e+01</td>\n",
              "      <td>7.026779e-01</td>\n",
              "      <td>8.089408e+03</td>\n",
              "      <td>6.179356e+01</td>\n",
              "      <td>5.965823e+01</td>\n",
              "      <td>6.436545e+01</td>\n",
              "      <td>2.947234e+01</td>\n",
              "      <td>9.099391e+00</td>\n",
              "      <td>7.395044e+00</td>\n",
              "      <td>7.016940e-03</td>\n",
              "    </tr>\n",
              "    <tr>\n",
              "      <th>std</th>\n",
              "      <td>4.787216e-01</td>\n",
              "      <td>5.363797e+00</td>\n",
              "      <td>1.831782e+01</td>\n",
              "      <td>5.363873e+00</td>\n",
              "      <td>1.831763e+01</td>\n",
              "      <td>1.560361e+00</td>\n",
              "      <td>1.836009e+04</td>\n",
              "      <td>1.862263e+01</td>\n",
              "      <td>2.116097e+01</td>\n",
              "      <td>2.287457e+01</td>\n",
              "      <td>1.045286e+00</td>\n",
              "      <td>2.717546e+00</td>\n",
              "      <td>5.527454e+00</td>\n",
              "      <td>9.348831e-02</td>\n",
              "    </tr>\n",
              "    <tr>\n",
              "      <th>min</th>\n",
              "      <td>1.000000e+00</td>\n",
              "      <td>2.456603e+01</td>\n",
              "      <td>-1.245481e+02</td>\n",
              "      <td>2.456601e+01</td>\n",
              "      <td>-1.245457e+02</td>\n",
              "      <td>0.000000e+00</td>\n",
              "      <td>0.000000e+00</td>\n",
              "      <td>-8.900000e+01</td>\n",
              "      <td>-8.900000e+01</td>\n",
              "      <td>1.000000e+00</td>\n",
              "      <td>0.000000e+00</td>\n",
              "      <td>0.000000e+00</td>\n",
              "      <td>0.000000e+00</td>\n",
              "      <td>0.000000e+00</td>\n",
              "    </tr>\n",
              "    <tr>\n",
              "      <th>25%</th>\n",
              "      <td>2.000000e+00</td>\n",
              "      <td>3.344517e+01</td>\n",
              "      <td>-1.180331e+02</td>\n",
              "      <td>3.344628e+01</td>\n",
              "      <td>-1.180333e+02</td>\n",
              "      <td>5.200000e-02</td>\n",
              "      <td>1.270000e+03</td>\n",
              "      <td>5.000000e+01</td>\n",
              "      <td>4.600000e+01</td>\n",
              "      <td>4.800000e+01</td>\n",
              "      <td>2.931000e+01</td>\n",
              "      <td>1.000000e+01</td>\n",
              "      <td>3.500000e+00</td>\n",
              "      <td>0.000000e+00</td>\n",
              "    </tr>\n",
              "    <tr>\n",
              "      <th>50%</th>\n",
              "      <td>2.000000e+00</td>\n",
              "      <td>3.609861e+01</td>\n",
              "      <td>-9.241808e+01</td>\n",
              "      <td>3.609799e+01</td>\n",
              "      <td>-9.241772e+01</td>\n",
              "      <td>2.440000e-01</td>\n",
              "      <td>4.007000e+03</td>\n",
              "      <td>6.400000e+01</td>\n",
              "      <td>6.300000e+01</td>\n",
              "      <td>6.700000e+01</td>\n",
              "      <td>2.982000e+01</td>\n",
              "      <td>1.000000e+01</td>\n",
              "      <td>7.000000e+00</td>\n",
              "      <td>0.000000e+00</td>\n",
              "    </tr>\n",
              "    <tr>\n",
              "      <th>75%</th>\n",
              "      <td>2.000000e+00</td>\n",
              "      <td>4.016024e+01</td>\n",
              "      <td>-8.037243e+01</td>\n",
              "      <td>4.016105e+01</td>\n",
              "      <td>-8.037338e+01</td>\n",
              "      <td>7.640000e-01</td>\n",
              "      <td>9.567000e+03</td>\n",
              "      <td>7.600000e+01</td>\n",
              "      <td>7.600000e+01</td>\n",
              "      <td>8.300000e+01</td>\n",
              "      <td>3.001000e+01</td>\n",
              "      <td>1.000000e+01</td>\n",
              "      <td>1.000000e+01</td>\n",
              "      <td>0.000000e+00</td>\n",
              "    </tr>\n",
              "    <tr>\n",
              "      <th>max</th>\n",
              "      <td>4.000000e+00</td>\n",
              "      <td>4.900058e+01</td>\n",
              "      <td>-6.711317e+01</td>\n",
              "      <td>4.907500e+01</td>\n",
              "      <td>-6.710924e+01</td>\n",
              "      <td>1.551860e+02</td>\n",
              "      <td>9.999997e+06</td>\n",
              "      <td>1.960000e+02</td>\n",
              "      <td>1.960000e+02</td>\n",
              "      <td>1.000000e+02</td>\n",
              "      <td>5.890000e+01</td>\n",
              "      <td>1.400000e+02</td>\n",
              "      <td>1.087000e+03</td>\n",
              "      <td>2.400000e+01</td>\n",
              "    </tr>\n",
              "  </tbody>\n",
              "</table>\n",
              "</div>\n",
              "      <button class=\"colab-df-convert\" onclick=\"convertToInteractive('df-45608fa4-e09c-4810-bd10-d01d78d72621')\"\n",
              "              title=\"Convert this dataframe to an interactive table.\"\n",
              "              style=\"display:none;\">\n",
              "        \n",
              "  <svg xmlns=\"http://www.w3.org/2000/svg\" height=\"24px\"viewBox=\"0 0 24 24\"\n",
              "       width=\"24px\">\n",
              "    <path d=\"M0 0h24v24H0V0z\" fill=\"none\"/>\n",
              "    <path d=\"M18.56 5.44l.94 2.06.94-2.06 2.06-.94-2.06-.94-.94-2.06-.94 2.06-2.06.94zm-11 1L8.5 8.5l.94-2.06 2.06-.94-2.06-.94L8.5 2.5l-.94 2.06-2.06.94zm10 10l.94 2.06.94-2.06 2.06-.94-2.06-.94-.94-2.06-.94 2.06-2.06.94z\"/><path d=\"M17.41 7.96l-1.37-1.37c-.4-.4-.92-.59-1.43-.59-.52 0-1.04.2-1.43.59L10.3 9.45l-7.72 7.72c-.78.78-.78 2.05 0 2.83L4 21.41c.39.39.9.59 1.41.59.51 0 1.02-.2 1.41-.59l7.78-7.78 2.81-2.81c.8-.78.8-2.07 0-2.86zM5.41 20L4 18.59l7.72-7.72 1.47 1.35L5.41 20z\"/>\n",
              "  </svg>\n",
              "      </button>\n",
              "      \n",
              "  <style>\n",
              "    .colab-df-container {\n",
              "      display:flex;\n",
              "      flex-wrap:wrap;\n",
              "      gap: 12px;\n",
              "    }\n",
              "\n",
              "    .colab-df-convert {\n",
              "      background-color: #E8F0FE;\n",
              "      border: none;\n",
              "      border-radius: 50%;\n",
              "      cursor: pointer;\n",
              "      display: none;\n",
              "      fill: #1967D2;\n",
              "      height: 32px;\n",
              "      padding: 0 0 0 0;\n",
              "      width: 32px;\n",
              "    }\n",
              "\n",
              "    .colab-df-convert:hover {\n",
              "      background-color: #E2EBFA;\n",
              "      box-shadow: 0px 1px 2px rgba(60, 64, 67, 0.3), 0px 1px 3px 1px rgba(60, 64, 67, 0.15);\n",
              "      fill: #174EA6;\n",
              "    }\n",
              "\n",
              "    [theme=dark] .colab-df-convert {\n",
              "      background-color: #3B4455;\n",
              "      fill: #D2E3FC;\n",
              "    }\n",
              "\n",
              "    [theme=dark] .colab-df-convert:hover {\n",
              "      background-color: #434B5C;\n",
              "      box-shadow: 0px 1px 3px 1px rgba(0, 0, 0, 0.15);\n",
              "      filter: drop-shadow(0px 1px 2px rgba(0, 0, 0, 0.3));\n",
              "      fill: #FFFFFF;\n",
              "    }\n",
              "  </style>\n",
              "\n",
              "      <script>\n",
              "        const buttonEl =\n",
              "          document.querySelector('#df-45608fa4-e09c-4810-bd10-d01d78d72621 button.colab-df-convert');\n",
              "        buttonEl.style.display =\n",
              "          google.colab.kernel.accessAllowed ? 'block' : 'none';\n",
              "\n",
              "        async function convertToInteractive(key) {\n",
              "          const element = document.querySelector('#df-45608fa4-e09c-4810-bd10-d01d78d72621');\n",
              "          const dataTable =\n",
              "            await google.colab.kernel.invokeFunction('convertToInteractive',\n",
              "                                                     [key], {});\n",
              "          if (!dataTable) return;\n",
              "\n",
              "          const docLinkHtml = 'Like what you see? Visit the ' +\n",
              "            '<a target=\"_blank\" href=https://colab.research.google.com/notebooks/data_table.ipynb>data table notebook</a>'\n",
              "            + ' to learn more about interactive tables.';\n",
              "          element.innerHTML = '';\n",
              "          dataTable['output_type'] = 'display_data';\n",
              "          await google.colab.output.renderOutput(dataTable, element);\n",
              "          const docLink = document.createElement('div');\n",
              "          docLink.innerHTML = docLinkHtml;\n",
              "          element.appendChild(docLink);\n",
              "        }\n",
              "      </script>\n",
              "    </div>\n",
              "  </div>\n",
              "  "
            ]
          },
          "metadata": {},
          "execution_count": 16
        }
      ]
    },
    {
      "cell_type": "code",
      "source": [
        "numerics = ['int16', 'int32', 'int64', 'float16', 'float32', 'float64']\n",
        "numeric_df = df.select_dtypes(include=numerics)\n",
        "len(numeric_df.columns)"
      ],
      "metadata": {
        "colab": {
          "base_uri": "https://localhost:8080/"
        },
        "id": "dUx4TvD1VD9y",
        "outputId": "5a17446c-f675-4e46-ca85-e0df675f83e9"
      },
      "execution_count": 17,
      "outputs": [
        {
          "output_type": "execute_result",
          "data": {
            "text/plain": [
              "14"
            ]
          },
          "metadata": {},
          "execution_count": 17
        }
      ]
    },
    {
      "cell_type": "code",
      "source": [
        "\n",
        "missing_percentages = df.isna().sum().sort_values(ascending=False) / len(df)\n",
        "missing_percentages"
      ],
      "metadata": {
        "colab": {
          "base_uri": "https://localhost:8080/"
        },
        "id": "58PNibT3VHri",
        "outputId": "a1679014-c711-452f-895f-536f3cbeb48b"
      },
      "execution_count": 18,
      "outputs": [
        {
          "output_type": "execute_result",
          "data": {
            "text/plain": [
              "Number                   6.129003e-01\n",
              "Precipitation(in)        1.931079e-01\n",
              "Wind_Chill(F)            1.650568e-01\n",
              "Wind_Speed(mph)          5.550967e-02\n",
              "Wind_Direction           2.592834e-02\n",
              "Humidity(%)              2.568830e-02\n",
              "Weather_Condition        2.482514e-02\n",
              "Visibility(mi)           2.479350e-02\n",
              "Temperature(F)           2.434646e-02\n",
              "Pressure(in)             2.080593e-02\n",
              "Weather_Timestamp        1.783125e-02\n",
              "Airport_Code             3.356011e-03\n",
              "Timezone                 1.285961e-03\n",
              "Nautical_Twilight        1.007612e-03\n",
              "Civil_Twilight           1.007612e-03\n",
              "Sunrise_Sunset           1.007612e-03\n",
              "Astronomical_Twilight    1.007612e-03\n",
              "Zipcode                  4.635647e-04\n",
              "City                     4.814887e-05\n",
              "Street                   7.029032e-07\n",
              "Country                  0.000000e+00\n",
              "Junction                 0.000000e+00\n",
              "Start_Time               0.000000e+00\n",
              "End_Time                 0.000000e+00\n",
              "Start_Lat                0.000000e+00\n",
              "Turning_Loop             0.000000e+00\n",
              "Traffic_Signal           0.000000e+00\n",
              "Traffic_Calming          0.000000e+00\n",
              "Stop                     0.000000e+00\n",
              "Station                  0.000000e+00\n",
              "Roundabout               0.000000e+00\n",
              "Railway                  0.000000e+00\n",
              "No_Exit                  0.000000e+00\n",
              "Crossing                 0.000000e+00\n",
              "Give_Way                 0.000000e+00\n",
              "Bump                     0.000000e+00\n",
              "Amenity                  0.000000e+00\n",
              "Start_Lng                0.000000e+00\n",
              "End_Lat                  0.000000e+00\n",
              "End_Lng                  0.000000e+00\n",
              "Distance(mi)             0.000000e+00\n",
              "Description              0.000000e+00\n",
              "Severity                 0.000000e+00\n",
              "Side                     0.000000e+00\n",
              "County                   0.000000e+00\n",
              "State                    0.000000e+00\n",
              "ID                       0.000000e+00\n",
              "dtype: float64"
            ]
          },
          "metadata": {},
          "execution_count": 18
        }
      ]
    },
    {
      "cell_type": "code",
      "source": [
        "missing_percentages[missing_percentages !=0]"
      ],
      "metadata": {
        "colab": {
          "base_uri": "https://localhost:8080/"
        },
        "id": "02t17QZNVJMa",
        "outputId": "dce2e2dd-d229-4619-c8e8-610991869188"
      },
      "execution_count": 19,
      "outputs": [
        {
          "output_type": "execute_result",
          "data": {
            "text/plain": [
              "Number                   6.129003e-01\n",
              "Precipitation(in)        1.931079e-01\n",
              "Wind_Chill(F)            1.650568e-01\n",
              "Wind_Speed(mph)          5.550967e-02\n",
              "Wind_Direction           2.592834e-02\n",
              "Humidity(%)              2.568830e-02\n",
              "Weather_Condition        2.482514e-02\n",
              "Visibility(mi)           2.479350e-02\n",
              "Temperature(F)           2.434646e-02\n",
              "Pressure(in)             2.080593e-02\n",
              "Weather_Timestamp        1.783125e-02\n",
              "Airport_Code             3.356011e-03\n",
              "Timezone                 1.285961e-03\n",
              "Nautical_Twilight        1.007612e-03\n",
              "Civil_Twilight           1.007612e-03\n",
              "Sunrise_Sunset           1.007612e-03\n",
              "Astronomical_Twilight    1.007612e-03\n",
              "Zipcode                  4.635647e-04\n",
              "City                     4.814887e-05\n",
              "Street                   7.029032e-07\n",
              "dtype: float64"
            ]
          },
          "metadata": {},
          "execution_count": 19
        }
      ]
    },
    {
      "cell_type": "code",
      "source": [
        "missing_percentages.plot()"
      ],
      "metadata": {
        "colab": {
          "base_uri": "https://localhost:8080/",
          "height": 283
        },
        "id": "a1892aJIVMEK",
        "outputId": "4738561a-5ce5-4c21-ebe1-9ab7eee13c2a"
      },
      "execution_count": 20,
      "outputs": [
        {
          "output_type": "execute_result",
          "data": {
            "text/plain": [
              "<matplotlib.axes._subplots.AxesSubplot at 0x7fd5cb3c3970>"
            ]
          },
          "metadata": {},
          "execution_count": 20
        },
        {
          "output_type": "display_data",
          "data": {
            "text/plain": [
              "<Figure size 432x288 with 1 Axes>"
            ],
            "image/png": "[encoded data removed]"
          },
          "metadata": {
            "needs_background": "light"
          }
        }
      ]
    },
    {
      "cell_type": "code",
      "source": [
        "missing_percentages[missing_percentages !=0].plot(kind='barh')"
      ],
      "metadata": {
        "colab": {
          "base_uri": "https://localhost:8080/",
          "height": 282
        },
        "id": "k7vz3TkeVOL6",
        "outputId": "dd14ab14-412f-4190-dfb9-26928c704d29"
      },
      "execution_count": 21,
      "outputs": [
        {
          "output_type": "execute_result",
          "data": {
            "text/plain": [
              "<matplotlib.axes._subplots.AxesSubplot at 0x7fd5cb35c460>"
            ]
          },
          "metadata": {},
          "execution_count": 21
        },
        {
          "output_type": "display_data",
          "data": {
            "text/plain": [
              "<Figure size 432x288 with 1 Axes>"
            ],
            "image/png": "[encoded data removed]"
          },
          "metadata": {
            "needs_background": "light"
          }
        }
      ]
    },
    {
      "cell_type": "code",
      "source": [
        "df.City"
      ],
      "metadata": {
        "colab": {
          "base_uri": "https://localhost:8080/"
        },
        "id": "rtwCr9ZOVQiy",
        "outputId": "21ede5b3-5a9b-4c54-9051-8a4ac40b5820"
      },
      "execution_count": 22,
      "outputs": [
        {
          "output_type": "execute_result",
          "data": {
            "text/plain": [
              "0               Dublin\n",
              "1               Dayton\n",
              "2           Cincinnati\n",
              "3                Akron\n",
              "4           Cincinnati\n",
              "              ...     \n",
              "2845337      Riverside\n",
              "2845338      San Diego\n",
              "2845339         Orange\n",
              "2845340    Culver City\n",
              "2845341       Highland\n",
              "Name: City, Length: 2845342, dtype: object"
            ]
          },
          "metadata": {},
          "execution_count": 22
        }
      ]
    },
    {
      "cell_type": "code",
      "source": [
        "cities = df.City.unique()\n",
        "len(cities)\n"
      ],
      "metadata": {
        "colab": {
          "base_uri": "https://localhost:8080/"
        },
        "id": "wGjylyi-VURq",
        "outputId": "29c8e2b9-e4e2-41f3-99b8-e23d63574500"
      },
      "execution_count": 23,
      "outputs": [
        {
          "output_type": "execute_result",
          "data": {
            "text/plain": [
              "11682"
            ]
          },
          "metadata": {},
          "execution_count": 23
        }
      ]
    },
    {
      "cell_type": "code",
      "source": [
        "cities = df.City.unique()\n",
        "cities[:100]"
      ],
      "metadata": {
        "colab": {
          "base_uri": "https://localhost:8080/"
        },
        "id": "1xKvfxmvVW1a",
        "outputId": "035e7398-3d84-4a64-ead8-814a6da68dc9"
      },
      "execution_count": 24,
      "outputs": [
        {
          "output_type": "execute_result",
          "data": {
            "text/plain": [
              "array(['Dublin', 'Dayton', 'Cincinnati', 'Akron', 'Williamsburg',\n",
              "       'Cleveland', 'Lima', 'Westerville', 'Jamestown', 'Freeport',\n",
              "       'Columbus', 'Toledo', 'Roanoke', 'Ft Mitchell', 'Edinburgh',\n",
              "       'Fairborn', 'Shelbyville', 'Greensburg', 'Saint Paul',\n",
              "       'Parkersburg', 'Indianapolis', 'Dundee', 'Jeffersonville',\n",
              "       'Pittsburgh', 'Lewis Center', 'Dunkirk', 'Redkey', 'Milton',\n",
              "       'Willshire', 'Straughn', 'Cambridge Springs', 'Fremont',\n",
              "       'Louisville', 'South Charleston', 'Edinboro', 'Buckhannon',\n",
              "       'Lockbourne', 'Painesville', 'Washington', 'Dunbar', 'Angola',\n",
              "       'Edon', 'Medina', 'De Mossville', 'New Albany', 'Charleston',\n",
              "       'Fort Wayne', 'Burnsville', 'Bedford', 'Clarksville', 'Lakewood',\n",
              "       'Richfield', 'Sewickley', 'Independence', 'Westlake', 'Erlanger',\n",
              "       'Grove City', 'Monroe', 'West Middlesex', 'Gaston', 'Economy',\n",
              "       'Fairmount', 'Hagerstown', 'Walton', 'Crittenden', 'Coraopolis',\n",
              "       'Holland', 'Greenfield', 'Anderson', 'Englewood', 'Knightstown',\n",
              "       'Bentleyville', 'Memphis', 'Henryville', 'Kendallville', 'Avilla',\n",
              "       'Ohio City', 'Van Wert', 'Rocky River', 'Sturgis', 'West Chester',\n",
              "       'Orient', 'Madison', 'Deputy', 'Keystone', 'Mercer', 'Bryant',\n",
              "       'Pennville', 'Kimbolton', 'Thornville', 'Wexford', 'Fishers',\n",
              "       'Noblesville', 'Macedonia', 'Youngstown', 'Fairdale', 'Sutton',\n",
              "       'Mount Sterling', 'Northwood', 'Huntington'], dtype=object)"
            ]
          },
          "metadata": {},
          "execution_count": 24
        }
      ]
    },
    {
      "cell_type": "code",
      "source": [
        "cities_by_accident = df.City.value_counts()\n",
        "cities_by_accident"
      ],
      "metadata": {
        "colab": {
          "base_uri": "https://localhost:8080/"
        },
        "id": "pvtgLoagVYUC",
        "outputId": "1cfbda80-b2d6-473e-ca95-0e472b72f58a"
      },
      "execution_count": 25,
      "outputs": [
        {
          "output_type": "execute_result",
          "data": {
            "text/plain": [
              "Miami                           106966\n",
              "Los Angeles                      68956\n",
              "Orlando                          54691\n",
              "Dallas                           41979\n",
              "Houston                          39448\n",
              "                                 ...  \n",
              "Ridgedale                            1\n",
              "Sekiu                                1\n",
              "Wooldridge                           1\n",
              "Bullock                              1\n",
              "American Fork-Pleasant Grove         1\n",
              "Name: City, Length: 11681, dtype: int64"
            ]
          },
          "metadata": {},
          "execution_count": 25
        }
      ]
    },
    {
      "cell_type": "code",
      "source": [
        "\n",
        "cities_by_accident[:20]"
      ],
      "metadata": {
        "colab": {
          "base_uri": "https://localhost:8080/"
        },
        "id": "q_P2CarlVZ7K",
        "outputId": "cb4a050f-7fbf-4906-b9b3-3e53a86df07e"
      },
      "execution_count": 26,
      "outputs": [
        {
          "output_type": "execute_result",
          "data": {
            "text/plain": [
              "Miami           106966\n",
              "Los Angeles      68956\n",
              "Orlando          54691\n",
              "Dallas           41979\n",
              "Houston          39448\n",
              "Charlotte        33152\n",
              "Sacramento       32559\n",
              "San Diego        26627\n",
              "Raleigh          22840\n",
              "Minneapolis      22768\n",
              "Portland         20944\n",
              "Nashville        20267\n",
              "Austin           18301\n",
              "Baton Rouge      18182\n",
              "Phoenix          17143\n",
              "Saint Paul       16869\n",
              "New Orleans      16251\n",
              "Atlanta          15622\n",
              "Jacksonville     14967\n",
              "Richmond         14349\n",
              "Name: City, dtype: int64"
            ]
          },
          "metadata": {},
          "execution_count": 26
        }
      ]
    },
    {
      "cell_type": "code",
      "source": [
        "'NY' in df.State"
      ],
      "metadata": {
        "colab": {
          "base_uri": "https://localhost:8080/"
        },
        "id": "QZWrTV-dVcCS",
        "outputId": "83dbc70a-8f5b-4d7d-c8a4-bdd2c0edf3f6"
      },
      "execution_count": 27,
      "outputs": [
        {
          "output_type": "execute_result",
          "data": {
            "text/plain": [
              "False"
            ]
          },
          "metadata": {},
          "execution_count": 27
        }
      ]
    },
    {
      "cell_type": "code",
      "source": [
        "cities_by_accident[:10].plot(kind='barh')"
      ],
      "metadata": {
        "colab": {
          "base_uri": "https://localhost:8080/",
          "height": 282
        },
        "id": "YaZpiFXXVd2K",
        "outputId": "9306691a-930a-4f65-a22e-7a5fdb72edfa"
      },
      "execution_count": 28,
      "outputs": [
        {
          "output_type": "execute_result",
          "data": {
            "text/plain": [
              "<matplotlib.axes._subplots.AxesSubplot at 0x7fd5cae8f970>"
            ]
          },
          "metadata": {},
          "execution_count": 28
        },
        {
          "output_type": "display_data",
          "data": {
            "text/plain": [
              "<Figure size 432x288 with 1 Axes>"
            ],
            "image/png": "[encoded data removed]"
          },
          "metadata": {
            "needs_background": "light"
          }
        }
      ]
    },
    {
      "cell_type": "code",
      "source": [
        "!pip install seaborn"
      ],
      "metadata": {
        "colab": {
          "base_uri": "https://localhost:8080/"
        },
        "id": "Bm72RP3uDVlG",
        "outputId": "8007475d-15c9-4e2d-bef2-7621a14bdace"
      },
      "execution_count": 29,
      "outputs": [
        {
          "output_type": "stream",
          "name": "stdout",
          "text": [
            "Looking in indexes: https://pypi.org/simple, https://us-python.pkg.dev/colab-wheels/public/simple/\n",
            "Requirement already satisfied: seaborn in /usr/local/lib/python3.8/dist-packages (0.11.2)\n",
            "Requirement already satisfied: numpy>=1.15 in /usr/local/lib/python3.8/dist-packages (from seaborn) (1.21.6)\n",
            "Requirement already satisfied: scipy>=1.0 in /usr/local/lib/python3.8/dist-packages (from seaborn) (1.7.3)\n",
            "Requirement already satisfied: pandas>=0.23 in /usr/local/lib/python3.8/dist-packages (from seaborn) (1.3.5)\n",
            "Requirement already satisfied: matplotlib>=2.2 in /usr/local/lib/python3.8/dist-packages (from seaborn) (3.2.2)\n",
            "Requirement already satisfied: pyparsing!=2.0.4,!=2.1.2,!=2.1.6,>=2.0.1 in /usr/local/lib/python3.8/dist-packages (from matplotlib>=2.2->seaborn) (3.0.9)\n",
            "Requirement already satisfied: kiwisolver>=1.0.1 in /usr/local/lib/python3.8/dist-packages (from matplotlib>=2.2->seaborn) (1.4.4)\n",
            "Requirement already satisfied: cycler>=0.10 in /usr/local/lib/python3.8/dist-packages (from matplotlib>=2.2->seaborn) (0.11.0)\n",
            "Requirement already satisfied: python-dateutil>=2.1 in /usr/local/lib/python3.8/dist-packages (from matplotlib>=2.2->seaborn) (2.8.2)\n",
            "Requirement already satisfied: pytz>=2017.3 in /usr/local/lib/python3.8/dist-packages (from pandas>=0.23->seaborn) (2022.6)\n",
            "Requirement already satisfied: six>=1.5 in /usr/local/lib/python3.8/dist-packages (from python-dateutil>=2.1->matplotlib>=2.2->seaborn) (1.15.0)\n"
          ]
        }
      ]
    },
    {
      "cell_type": "code",
      "source": [
        "import seaborn as sns\n",
        "sns.set_style(\"darkgrid\")"
      ],
      "metadata": {
        "id": "HzH5G4wCDhMD"
      },
      "execution_count": 30,
      "outputs": []
    },
    {
      "cell_type": "code",
      "source": [
        "high_accident_cities = cities_by_accident[cities_by_accident >= 10000]\n",
        "low_accident_cities = cities_by_accident[cities_by_accident < 10000]\n"
      ],
      "metadata": {
        "id": "V6C0RzeWNdZB"
      },
      "execution_count": 31,
      "outputs": []
    },
    {
      "cell_type": "code",
      "source": [
        "sns.distplot(cities_by_accident)"
      ],
      "metadata": {
        "colab": {
          "base_uri": "https://localhost:8080/",
          "height": 351
        },
        "id": "Y79we8B9D2PD",
        "outputId": "76223cc0-39a1-4864-c64c-0b8498bc3b6d"
      },
      "execution_count": 32,
      "outputs": [
        {
          "output_type": "stream",
          "name": "stderr",
          "text": [
            "/usr/local/lib/python3.8/dist-packages/seaborn/distributions.py:2619: FutureWarning: `distplot` is a deprecated function and will be removed in a future version. Please adapt your code to use either `displot` (a figure-level function with similar flexibility) or `histplot` (an axes-level function for histograms).\n",
            "  warnings.warn(msg, FutureWarning)\n"
          ]
        },
        {
          "output_type": "execute_result",
          "data": {
            "text/plain": [
              "<matplotlib.axes._subplots.AxesSubplot at 0x7fd5c4012460>"
            ]
          },
          "metadata": {},
          "execution_count": 32
        },
        {
          "output_type": "display_data",
          "data": {
            "text/plain": [
              "<Figure size 432x288 with 1 Axes>"
            ],
            "image/png": "[encoded data removed]"
          },
          "metadata": {}
        }
      ]
    },
    {
      "cell_type": "code",
      "source": [
        "len(high_accident_cities) / len(cities)"
      ],
      "metadata": {
        "colab": {
          "base_uri": "https://localhost:8080/"
        },
        "id": "RU1366PYN9V4",
        "outputId": "47b4fae7-016b-473d-a4e6-fdaa51c9f08d"
      },
      "execution_count": 33,
      "outputs": [
        {
          "output_type": "execute_result",
          "data": {
            "text/plain": [
              "0.002910460537579182"
            ]
          },
          "metadata": {},
          "execution_count": 33
        }
      ]
    },
    {
      "cell_type": "code",
      "source": [
        "sns.distplot(high_accident_cities)"
      ],
      "metadata": {
        "colab": {
          "base_uri": "https://localhost:8080/",
          "height": 362
        },
        "id": "tSe4Dx8xOTpH",
        "outputId": "63f5a0c1-b874-4396-9da4-fec5ece644da"
      },
      "execution_count": 34,
      "outputs": [
        {
          "output_type": "stream",
          "name": "stderr",
          "text": [
            "/usr/local/lib/python3.8/dist-packages/seaborn/distributions.py:2619: FutureWarning: `distplot` is a deprecated function and will be removed in a future version. Please adapt your code to use either `displot` (a figure-level function with similar flexibility) or `histplot` (an axes-level function for histograms).\n",
            "  warnings.warn(msg, FutureWarning)\n"
          ]
        },
        {
          "output_type": "execute_result",
          "data": {
            "text/plain": [
              "<matplotlib.axes._subplots.AxesSubplot at 0x7fd5bfe96d60>"
            ]
          },
          "metadata": {},
          "execution_count": 34
        },
        {
          "output_type": "display_data",
          "data": {
            "text/plain": [
              "<Figure size 432x288 with 1 Axes>"
            ],
            "image/png": "[encoded data removed]"
          },
          "metadata": {}
        }
      ]
    },
    {
      "cell_type": "code",
      "source": [
        "sns.distplot(low_accident_cities)"
      ],
      "metadata": {
        "colab": {
          "base_uri": "https://localhost:8080/",
          "height": 351
        },
        "id": "ZY561gGbOf0W",
        "outputId": "67fe855b-5655-43ab-ab72-0ea44b97ed35"
      },
      "execution_count": 35,
      "outputs": [
        {
          "output_type": "stream",
          "name": "stderr",
          "text": [
            "/usr/local/lib/python3.8/dist-packages/seaborn/distributions.py:2619: FutureWarning: `distplot` is a deprecated function and will be removed in a future version. Please adapt your code to use either `displot` (a figure-level function with similar flexibility) or `histplot` (an axes-level function for histograms).\n",
            "  warnings.warn(msg, FutureWarning)\n"
          ]
        },
        {
          "output_type": "execute_result",
          "data": {
            "text/plain": [
              "<matplotlib.axes._subplots.AxesSubplot at 0x7fd5bfe6e3d0>"
            ]
          },
          "metadata": {},
          "execution_count": 35
        },
        {
          "output_type": "display_data",
          "data": {
            "text/plain": [
              "<Figure size 432x288 with 1 Axes>"
            ],
            "image/png": "[encoded data removed]"
          },
          "metadata": {}
        }
      ]
    },
    {
      "cell_type": "code",
      "source": [
        "sns.histplot(cities_by_accident, log_scale=True)"
      ],
      "metadata": {
        "colab": {
          "base_uri": "https://localhost:8080/",
          "height": 300
        },
        "id": "Q_egA7fAOtdn",
        "outputId": "e1b666ef-9c0c-41c2-f7a2-65f1d659f8b9"
      },
      "execution_count": 36,
      "outputs": [
        {
          "output_type": "execute_result",
          "data": {
            "text/plain": [
              "<matplotlib.axes._subplots.AxesSubplot at 0x7fd5bfea1610>"
            ]
          },
          "metadata": {},
          "execution_count": 36
        },
        {
          "output_type": "display_data",
          "data": {
            "text/plain": [
              "<Figure size 432x288 with 1 Axes>"
            ],
            "image/png": "[encoded data removed]"
          },
          "metadata": {}
        }
      ]
    },
    {
      "cell_type": "code",
      "source": [],
      "metadata": {
        "id": "Ixcc4sJRPQ79"
      },
      "execution_count": 36,
      "outputs": []
    },
    {
      "cell_type": "markdown",
      "source": [
        "Start Time"
      ],
      "metadata": {
        "id": "RBCwBLTxQxKA"
      }
    },
    {
      "cell_type": "code",
      "source": [
        "df.Start_Time"
      ],
      "metadata": {
        "colab": {
          "base_uri": "https://localhost:8080/"
        },
        "id": "eWF9IExyQzrz",
        "outputId": "5ae5193b-7fad-4b57-e9f4-abed7a60f5d2"
      },
      "execution_count": 37,
      "outputs": [
        {
          "output_type": "execute_result",
          "data": {
            "text/plain": [
              "0          2016-02-08 00:37:08\n",
              "1          2016-02-08 05:56:20\n",
              "2          2016-02-08 06:15:39\n",
              "3          2016-02-08 06:51:45\n",
              "4          2016-02-08 07:53:43\n",
              "                  ...         \n",
              "2845337    2019-08-23 18:03:25\n",
              "2845338    2019-08-23 19:11:30\n",
              "2845339    2019-08-23 19:00:21\n",
              "2845340    2019-08-23 19:00:21\n",
              "2845341    2019-08-23 18:52:06\n",
              "Name: Start_Time, Length: 2845342, dtype: object"
            ]
          },
          "metadata": {},
          "execution_count": 37
        }
      ]
    },
    {
      "cell_type": "code",
      "source": [
        "df.Start_Time[0]"
      ],
      "metadata": {
        "colab": {
          "base_uri": "https://localhost:8080/",
          "height": 35
        },
        "id": "T72rS2pRQ_zL",
        "outputId": "8eb91c66-cc6b-4938-d5e4-a8bd253029a0"
      },
      "execution_count": 38,
      "outputs": [
        {
          "output_type": "execute_result",
          "data": {
            "text/plain": [
              "'2016-02-08 00:37:08'"
            ],
            "application/vnd.google.colaboratory.intrinsic+json": {
              "type": "string"
            }
          },
          "metadata": {},
          "execution_count": 38
        }
      ]
    },
    {
      "cell_type": "code",
      "source": [
        "df.Start_Time = pd.to_datetime(df.Start_Time)"
      ],
      "metadata": {
        "id": "0D2w8H26RE3i"
      },
      "execution_count": 39,
      "outputs": []
    },
    {
      "cell_type": "markdown",
      "source": [
        "What time of day are accidents "
      ],
      "metadata": {
        "id": "u5BXOlrKRlxA"
      }
    },
    {
      "cell_type": "code",
      "source": [
        "df.Start_Time[0].hour"
      ],
      "metadata": {
        "colab": {
          "base_uri": "https://localhost:8080/"
        },
        "id": "SBbOqLY_Rqcs",
        "outputId": "c1d02b35-fd09-4833-a384-01b5f02ee55a"
      },
      "execution_count": 40,
      "outputs": [
        {
          "output_type": "execute_result",
          "data": {
            "text/plain": [
              "0"
            ]
          },
          "metadata": {},
          "execution_count": 40
        }
      ]
    },
    {
      "cell_type": "code",
      "source": [
        "sns.histplot(df.Start_Time.dt.hour, bins=24)"
      ],
      "metadata": {
        "colab": {
          "base_uri": "https://localhost:8080/",
          "height": 297
        },
        "id": "c71va5u-RuRe",
        "outputId": "7774dd48-9b5b-416c-b3eb-17e02fd60968"
      },
      "execution_count": 41,
      "outputs": [
        {
          "output_type": "execute_result",
          "data": {
            "text/plain": [
              "<matplotlib.axes._subplots.AxesSubplot at 0x7fd5cb45eaf0>"
            ]
          },
          "metadata": {},
          "execution_count": 41
        },
        {
          "output_type": "display_data",
          "data": {
            "text/plain": [
              "<Figure size 432x288 with 1 Axes>"
            ],
            "image/png": "[encoded data removed]"
          },
          "metadata": {}
        }
      ]
    },
    {
      "cell_type": "code",
      "source": [
        " sns.distplot(df.Start_Time.dt.hour, bins=24)"
      ],
      "metadata": {
        "colab": {
          "base_uri": "https://localhost:8080/",
          "height": 352
        },
        "id": "PwtD4EcsRuV0",
        "outputId": "4741c973-4315-4e45-ede5-3afa8f5c118e"
      },
      "execution_count": 42,
      "outputs": [
        {
          "output_type": "stream",
          "name": "stderr",
          "text": [
            "/usr/local/lib/python3.8/dist-packages/seaborn/distributions.py:2619: FutureWarning: `distplot` is a deprecated function and will be removed in a future version. Please adapt your code to use either `displot` (a figure-level function with similar flexibility) or `histplot` (an axes-level function for histograms).\n",
            "  warnings.warn(msg, FutureWarning)\n"
          ]
        },
        {
          "output_type": "execute_result",
          "data": {
            "text/plain": [
              "<matplotlib.axes._subplots.AxesSubplot at 0x7fd5cb462040>"
            ]
          },
          "metadata": {},
          "execution_count": 42
        },
        {
          "output_type": "display_data",
          "data": {
            "text/plain": [
              "<Figure size 432x288 with 1 Axes>"
            ],
            "image/png": "[encoded data removed]"
          },
          "metadata": {}
        }
      ]
    },
    {
      "cell_type": "markdown",
      "source": [
        "#Figure out how to show percentages"
      ],
      "metadata": {
        "id": "NVYVXG2GfnTa"
      }
    },
    {
      "cell_type": "code",
      "source": [
        "sns.distplot(df.Start_Time.dt.hour, bins=24, kde=False, norm_hist=True) # HIgh percentage of accident occur between 6 am to 10 am (propably people is harry )"
      ],
      "metadata": {
        "colab": {
          "base_uri": "https://localhost:8080/",
          "height": 352
        },
        "id": "A4L1geJugffS",
        "outputId": "e14f9be7-014f-46ff-f292-6bbf0ecf37eb"
      },
      "execution_count": 43,
      "outputs": [
        {
          "output_type": "stream",
          "name": "stderr",
          "text": [
            "/usr/local/lib/python3.8/dist-packages/seaborn/distributions.py:2619: FutureWarning: `distplot` is a deprecated function and will be removed in a future version. Please adapt your code to use either `displot` (a figure-level function with similar flexibility) or `histplot` (an axes-level function for histograms).\n",
            "  warnings.warn(msg, FutureWarning)\n"
          ]
        },
        {
          "output_type": "execute_result",
          "data": {
            "text/plain": [
              "<matplotlib.axes._subplots.AxesSubplot at 0x7fd5bf996ca0>"
            ]
          },
          "metadata": {},
          "execution_count": 43
        },
        {
          "output_type": "display_data",
          "data": {
            "text/plain": [
              "<Figure size 432x288 with 1 Axes>"
            ],
            "image/png": "[encoded data removed]"
          },
          "metadata": {}
        }
      ]
    },
    {
      "cell_type": "markdown",
      "source": [
        "Which days of the week have the most accidents"
      ],
      "metadata": {
        "id": "p8InrSYzRwpd"
      }
    },
    {
      "cell_type": "code",
      "source": [
        "sns.distplot(df.Start_Time.dt.dayofweek, bins=7, kde=False, norm_hist=True)"
      ],
      "metadata": {
        "colab": {
          "base_uri": "https://localhost:8080/",
          "height": 297
        },
        "id": "n0SaMfv1R1Z5",
        "outputId": "0caa1805-d0c9-4f2e-880c-9f49aa906462"
      },
      "execution_count": 44,
      "outputs": [
        {
          "output_type": "execute_result",
          "data": {
            "text/plain": [
              "<matplotlib.axes._subplots.AxesSubplot at 0x7fd5bf925fa0>"
            ]
          },
          "metadata": {},
          "execution_count": 44
        },
        {
          "output_type": "display_data",
          "data": {
            "text/plain": [
              "<Figure size 432x288 with 1 Axes>"
            ],
            "image/png": "[encoded data removed]"
          },
          "metadata": {}
        }
      ]
    },
    {
      "cell_type": "markdown",
      "source": [
        "Is the distribution of accidents by hour the same on weekends as on weekdays"
      ],
      "metadata": {
        "id": "91tfI8qTjysT"
      }
    },
    {
      "cell_type": "code",
      "source": [
        "sundays_start_time = df.Start_Time[df.Start_Time.dt.dayofweek == 6]\n",
        "sns.distplot(sundays_start_time.dt.hour, bins=24, kde=False, norm_hist=True)"
      ],
      "metadata": {
        "colab": {
          "base_uri": "https://localhost:8080/",
          "height": 297
        },
        "id": "N0q-xY9UR2LE",
        "outputId": "bb52d096-7f74-4744-ad89-e81c6b8cc14f"
      },
      "execution_count": 46,
      "outputs": [
        {
          "output_type": "execute_result",
          "data": {
            "text/plain": [
              "<matplotlib.axes._subplots.AxesSubplot at 0x7fd5bf997a30>"
            ]
          },
          "metadata": {},
          "execution_count": 46
        },
        {
          "output_type": "display_data",
          "data": {
            "text/plain": [
              "<Figure size 432x288 with 1 Axes>"
            ],
            "image/png": "[encoded data removed]"
          },
          "metadata": {}
        }
      ]
    },
    {
      "cell_type": "code",
      "source": [
        "monday_start_time = df.Start_Time[df.Start_Time.dt.dayofweek == 0]\n",
        "sns.distplot(monday_start_time.dt.hour, bins=24, kde=False, norm_hist=True)"
      ],
      "metadata": {
        "colab": {
          "base_uri": "https://localhost:8080/",
          "height": 297
        },
        "id": "xDfDM5MRR2Na",
        "outputId": "920faabb-07c3-44c2-c8c0-fb9b7d0f14b6"
      },
      "execution_count": 47,
      "outputs": [
        {
          "output_type": "execute_result",
          "data": {
            "text/plain": [
              "<matplotlib.axes._subplots.AxesSubplot at 0x7fd5bf9efdf0>"
            ]
          },
          "metadata": {},
          "execution_count": 47
        },
        {
          "output_type": "display_data",
          "data": {
            "text/plain": [
              "<Figure size 432x288 with 1 Axes>"
            ],
            "image/png": "[encoded data removed]"
          },
          "metadata": {}
        }
      ]
    },
    {
      "cell_type": "markdown",
      "source": [
        "Start Latitude & Longitude"
      ],
      "metadata": {
        "id": "owvfvfHIgAWL"
      }
    },
    {
      "cell_type": "code",
      "source": [
        "df.Start_Lat\n"
      ],
      "metadata": {
        "colab": {
          "base_uri": "https://localhost:8080/"
        },
        "id": "Fkv6dKUrR9HF",
        "outputId": "e25df504-48c3-4efa-aa13-ba76468e137d"
      },
      "execution_count": 53,
      "outputs": [
        {
          "output_type": "execute_result",
          "data": {
            "text/plain": [
              "0          40.108910\n",
              "1          39.865420\n",
              "2          39.102660\n",
              "3          41.062130\n",
              "4          39.172393\n",
              "             ...    \n",
              "2845337    34.002480\n",
              "2845338    32.766960\n",
              "2845339    33.775450\n",
              "2845340    33.992460\n",
              "2845341    34.133930\n",
              "Name: Start_Lat, Length: 2845342, dtype: float64"
            ]
          },
          "metadata": {},
          "execution_count": 53
        }
      ]
    },
    {
      "cell_type": "code",
      "source": [
        "df.Start_Lng"
      ],
      "metadata": {
        "colab": {
          "base_uri": "https://localhost:8080/"
        },
        "id": "7_sue7Q5R9O8",
        "outputId": "46bede14-642e-4637-b595-26321c2ba726"
      },
      "execution_count": 54,
      "outputs": [
        {
          "output_type": "execute_result",
          "data": {
            "text/plain": [
              "0          -83.092860\n",
              "1          -84.062800\n",
              "2          -84.524680\n",
              "3          -81.537840\n",
              "4          -84.492792\n",
              "              ...    \n",
              "2845337   -117.379360\n",
              "2845338   -117.148060\n",
              "2845339   -117.847790\n",
              "2845340   -118.403020\n",
              "2845341   -117.230920\n",
              "Name: Start_Lng, Length: 2845342, dtype: float64"
            ]
          },
          "metadata": {},
          "execution_count": 54
        }
      ]
    },
    {
      "cell_type": "markdown",
      "source": [
        "What is the trends of accident over year and year (decrese/increse)"
      ],
      "metadata": {
        "id": "1GYU3p3SR9jt"
      }
    },
    {
      "cell_type": "code",
      "source": [
        "sample_df = df.sample(int(0.1 * len(df)))"
      ],
      "metadata": {
        "id": "OXWILPneSD54"
      },
      "execution_count": 55,
      "outputs": []
    },
    {
      "cell_type": "code",
      "source": [
        "sns.scatterplot(x=sample_df.Start_Lng, y=sample_df.Start_Lat, size=0.001)"
      ],
      "metadata": {
        "colab": {
          "base_uri": "https://localhost:8080/",
          "height": 299
        },
        "id": "dqj55EBkgEvH",
        "outputId": "49e55241-985f-4a0d-a926-b6cddfb472ff"
      },
      "execution_count": 56,
      "outputs": [
        {
          "output_type": "execute_result",
          "data": {
            "text/plain": [
              "<matplotlib.axes._subplots.AxesSubplot at 0x7fd5bfa83a00>"
            ]
          },
          "metadata": {},
          "execution_count": 56
        },
        {
          "output_type": "display_data",
          "data": {
            "text/plain": [
              "<Figure size 432x288 with 1 Axes>"
            ],
            "image/png": "[encoded data removed]"
          },
          "metadata": {}
        }
      ]
    },
    {
      "cell_type": "code",
      "source": [
        "import folium"
      ],
      "metadata": {
        "id": "ka3MqHTogIVf"
      },
      "execution_count": 57,
      "outputs": []
    },
    {
      "cell_type": "code",
      "source": [
        "lat, lon = df.Start_Lat[0], df.Start_Lng[0]\n",
        "lat, lon"
      ],
      "metadata": {
        "colab": {
          "base_uri": "https://localhost:8080/"
        },
        "id": "5trR6u0ggRh3",
        "outputId": "b2b8d769-eeea-4a31-d0e8-dd7aecf4ac4a"
      },
      "execution_count": 58,
      "outputs": [
        {
          "output_type": "execute_result",
          "data": {
            "text/plain": [
              "(40.10891, -83.09286)"
            ]
          },
          "metadata": {},
          "execution_count": 58
        }
      ]
    },
    {
      "cell_type": "code",
      "source": [
        "for x in df[['Start_Lat', 'Start_Lng']].sample(100).iteritems():\n",
        "    print(x[1])"
      ],
      "metadata": {
        "colab": {
          "base_uri": "https://localhost:8080/"
        },
        "id": "eVUXdah0gTwe",
        "outputId": "2e381c58-a310-42a0-d5aa-357e74173756"
      },
      "execution_count": 59,
      "outputs": [
        {
          "output_type": "stream",
          "name": "stdout",
          "text": [
            "289039     39.852208\n",
            "2031885    34.072262\n",
            "227158     42.336813\n",
            "316662     44.679197\n",
            "1989563    38.659375\n",
            "             ...    \n",
            "1421018    39.884285\n",
            "2556500    33.916420\n",
            "894490     39.847743\n",
            "457290     40.141185\n",
            "895877     33.878359\n",
            "Name: Start_Lat, Length: 100, dtype: float64\n",
            "289039     -77.687721\n",
            "2031885   -117.614296\n",
            "227158     -83.038669\n",
            "316662    -117.649594\n",
            "1989563   -120.965126\n",
            "              ...    \n",
            "1421018    -75.549314\n",
            "2556500   -118.269620\n",
            "894490     -75.385017\n",
            "457290     -75.166758\n",
            "895877    -118.148602\n",
            "Name: Start_Lng, Length: 100, dtype: float64\n"
          ]
        }
      ]
    },
    {
      "cell_type": "code",
      "source": [
        "zip(list(df.Start_Lat), list(df.Start_Lng))"
      ],
      "metadata": {
        "colab": {
          "base_uri": "https://localhost:8080/"
        },
        "id": "HIeZkdRKgXI2",
        "outputId": "6d8b53ee-d869-4d34-a02c-e3478f556881"
      },
      "execution_count": 60,
      "outputs": [
        {
          "output_type": "execute_result",
          "data": {
            "text/plain": [
              "<zip at 0x7fd5be1a2340>"
            ]
          },
          "metadata": {},
          "execution_count": 60
        }
      ]
    },
    {
      "cell_type": "code",
      "source": [
        "zip(list(df.Start_Lat), list(df.Start_Lng))"
      ],
      "metadata": {
        "colab": {
          "base_uri": "https://localhost:8080/"
        },
        "id": "x7lWimdagZK2",
        "outputId": "b6169f42-a94f-4eb1-9395-26dfbb09f4de"
      },
      "execution_count": 61,
      "outputs": [
        {
          "output_type": "execute_result",
          "data": {
            "text/plain": [
              "<zip at 0x7fd5bf769b80>"
            ]
          },
          "metadata": {},
          "execution_count": 61
        }
      ]
    },
    {
      "cell_type": "code",
      "source": [
        "from folium.plugins import HeatMap\n"
      ],
      "metadata": {
        "id": "-2p-eWJKgiOW"
      },
      "execution_count": 62,
      "outputs": []
    },
    {
      "cell_type": "code",
      "source": [
        "sample_df = df.sample(int(0.001 * len(df)))\n",
        "lat_lon_pairs = list(zip(list(sample_df.Start_Lat), list(sample_df.Start_Lng)))"
      ],
      "metadata": {
        "id": "Xyfs4XUvgjeG"
      },
      "execution_count": 63,
      "outputs": []
    },
    {
      "cell_type": "code",
      "source": [
        "map = folium.Map()\n",
        "HeatMap(lat_lon_pairs).add_to(map)\n",
        "map"
      ],
      "metadata": {
        "colab": {
          "base_uri": "https://localhost:8080/",
          "height": 1000
        },
        "id": "6rErJqcVgm6X",
        "outputId": "61edaa9b-ce43-40a1-aa65-3de4bf72150c"
      },
      "execution_count": 64,
      "outputs": [
        {
          "output_type": "execute_result",
          "data": {
            "text/plain": [
              "<folium.folium.Map at 0x7fd5be19d370>"
            ],
            "text/html": [
              "<div style=\"width:100%;\"><div style=\"position:relative;width:100%;height:0;padding-bottom:60%;\"><span style=\"color:#565656\">Make this Notebook Trusted to load map: File -> Trust Notebook</span><iframe srcdoc=\"&lt;!DOCTYPE html&gt;\n",
              "&lt;html&gt;\n",
              "&lt;head&gt;\n",
              "    \n",
              "    &lt;meta http-equiv=&quot;content-type&quot; content=&quot;text/html; charset=UTF-8&quot; /&gt;\n",
              "    \n",
              "        &lt;script&gt;\n",
              "            L_NO_TOUCH = false;\n",
              "            L_DISABLE_3D = false;\n",
              "        &lt;/script&gt;\n",
              "    \n",
              "    &lt;style&gt;html, body {width: 100%;height: 100%;margin: 0;padding: 0;}&lt;/style&gt;\n",
              "    &lt;style&gt;#map {position:absolute;top:0;bottom:0;right:0;left:0;}&lt;/style&gt;\n",
              "    &lt;script src=&quot;https://cdn.jsdelivr.net/npm/leaflet@1.6.0/dist/leaflet.js&quot;&gt;&lt;/script&gt;\n",
              "    &lt;script src=&quot;https://code.jquery.com/jquery-1.12.4.min.js&quot;&gt;&lt;/script&gt;\n",
              "    &lt;script src=&quot;https://maxcdn.bootstrapcdn.com/bootstrap/3.2.0/js/bootstrap.min.js&quot;&gt;&lt;/script&gt;\n",
              "    &lt;script src=&quot;https://cdnjs.cloudflare.com/ajax/libs/Leaflet.awesome-markers/2.0.2/leaflet.awesome-markers.js&quot;&gt;&lt;/script&gt;\n",
              "    &lt;link rel=&quot;stylesheet&quot; href=&quot;https://cdn.jsdelivr.net/npm/leaflet@1.6.0/dist/leaflet.css&quot;/&gt;\n",
              "    &lt;link rel=&quot;stylesheet&quot; href=&quot;https://maxcdn.bootstrapcdn.com/bootstrap/3.2.0/css/bootstrap.min.css&quot;/&gt;\n",
              "    &lt;link rel=&quot;stylesheet&quot; href=&quot;https://maxcdn.bootstrapcdn.com/bootstrap/3.2.0/css/bootstrap-theme.min.css&quot;/&gt;\n",
              "    &lt;link rel=&quot;stylesheet&quot; href=&quot;https://maxcdn.bootstrapcdn.com/font-awesome/4.6.3/css/font-awesome.min.css&quot;/&gt;\n",
              "    &lt;link rel=&quot;stylesheet&quot; href=&quot;https://cdnjs.cloudflare.com/ajax/libs/Leaflet.awesome-markers/2.0.2/leaflet.awesome-markers.css&quot;/&gt;\n",
              "    &lt;link rel=&quot;stylesheet&quot; href=&quot;https://cdn.jsdelivr.net/gh/python-visualization/folium/folium/templates/leaflet.awesome.rotate.min.css&quot;/&gt;\n",
              "    \n",
              "            &lt;meta name=&quot;viewport&quot; content=&quot;width=device-width,\n",
              "                initial-scale=1.0, maximum-scale=1.0, user-scalable=no&quot; /&gt;\n",
              "            &lt;style&gt;\n",
              "                #map_8f03685cc3c278b8ec9d4f939a3e2a5d {\n",
              "                    position: relative;\n",
              "                    width: 100.0%;\n",
              "                    height: 100.0%;\n",
              "                    left: 0.0%;\n",
              "                    top: 0.0%;\n",
              "                }\n",
              "            &lt;/style&gt;\n",
              "        \n",
              "    &lt;script src=&quot;https://cdn.jsdelivr.net/gh/python-visualization/folium@master/folium/templates/leaflet_heat.min.js&quot;&gt;&lt;/script&gt;\n",
              "&lt;/head&gt;\n",
              "&lt;body&gt;\n",
              "    \n",
              "    \n",
              "            &lt;div class=&quot;folium-map&quot; id=&quot;map_8f03685cc3c278b8ec9d4f939a3e2a5d&quot; &gt;&lt;/div&gt;\n",
              "        \n",
              "&lt;/body&gt;\n",
              "&lt;script&gt;\n",
              "    \n",
              "    \n",
              "            var map_8f03685cc3c278b8ec9d4f939a3e2a5d = L.map(\n",
              "                &quot;map_8f03685cc3c278b8ec9d4f939a3e2a5d&quot;,\n",
              "                {\n",
              "                    center: [0, 0],\n",
              "                    crs: L.CRS.EPSG3857,\n",
              "                    zoom: 1,\n",
              "                    zoomControl: true,\n",
              "                    preferCanvas: false,\n",
              "                }\n",
              "            );\n",
              "\n",
              "            \n",
              "\n",
              "        \n",
              "    \n",
              "            var tile_layer_6a06013e1f26c011ea85ce7381a8d141 = L.tileLayer(\n",
              "                &quot;https://{s}.tile.openstreetmap.org/{z}/{x}/{y}.png&quot;,\n",
              "                {&quot;attribution&quot;: &quot;Data by \\u0026copy; \\u003ca href=\\&quot;http://openstreetmap.org\\&quot;\\u003eOpenStreetMap\\u003c/a\\u003e, under \\u003ca href=\\&quot;http://www.openstreetmap.org/copyright\\&quot;\\u003eODbL\\u003c/a\\u003e.&quot;, &quot;detectRetina&quot;: false, &quot;maxNativeZoom&quot;: 18, &quot;maxZoom&quot;: 18, &quot;minZoom&quot;: 0, &quot;noWrap&quot;: false, &quot;opacity&quot;: 1, &quot;subdomains&quot;: &quot;abc&quot;, &quot;tms&quot;: false}\n",
              "            ).addTo(map_8f03685cc3c278b8ec9d4f939a3e2a5d);\n",
              "        \n",
              "    \n",
              "            var heat_map_9b8023491babc0839c550ceea0dd15af = L.heatLayer(\n",
              "                [[34.386724, -117.412122], [33.908208, -118.265303], [36.764127, -119.776404], [37.700726, -121.804154], [33.876090000000005, -118.167858], [39.162306, -78.15772199999998], [41.25159, -74.895877], [29.708054, -95.557701], [25.97945, -80.16581], [48.089142, -123.234507], [40.830149, -74.328755], [35.755482, -118.418419], [42.994262, -73.790718], [33.544426, -117.596987], [33.88909, -118.28536], [40.066987, -75.145724], [38.8127, -77.12472700000002], [28.606890000000003, -81.52598], [43.75217, -121.46002], [40.499611, -111.41356299999998], [37.222338, -93.279383], [36.570278, -121.759444], [41.991085, -78.253277], [44.09609, -123.16711], [29.882637, -95.440104], [27.848099, -82.663911], [35.085359999999994, -89.87585], [41.497854, -122.464769], [33.911969, -117.446999], [34.921854, -118.291543], [37.347389, -121.92001100000002], [33.939181, -117.155274], [36.527863, -119.286847], [38.480825, -122.734844], [40.15248, -75.26624], [47.562695, -122.321278], [26.099118, -80.253763], [34.191824, -79.767899], [33.855694, -117.787199], [35.027493, -89.76507], [34.732498, -81.951949], [33.54557, -86.5474], [35.03842, -80.80572], [33.947561, -117.300269], [28.36915, -81.42998], [34.040719, -118.221527], [32.999955, -96.82484], [34.071669, -117.54504], [36.588147, -119.633787], [25.934294, -80.297371], [43.039487, -85.661247], [35.869237, -78.6211], [28.337151, -81.404351], [33.969196999999994, -118.225194], [32.723890000000004, -117.15263], [39.867885, -75.670518], [47.75741, -122.16793], [45.549662, -94.199575], [40.55018, -111.89602], [25.945874, -80.186314], [40.006294, -75.19811999999997], [37.78534000000001, -122.192427], [47.73607, -122.18784], [30.36046, -91.10664], [45.293758, -118.037056], [38.88049, -77.052601], [33.944846000000005, -118.099154], [36.264734, -86.85540300000002], [28.55085, -81.64478000000003], [40.245741, -76.88242], [34.674876, -118.218245], [48.065682, -124.10033], [33.018999, -80.21894300000002], [33.807387, -118.290285], [33.853058000000004, -117.8839], [25.755332, -80.201686], [30.177885, -81.628005], [45.21459, -93.03432], [34.11996, -118.3387], [25.629009, -80.337651], [27.955945, -82.465835], [33.829978999999994, -117.283344], [40.76518, -73.95212], [35.046251, -85.30800500000002], [30.768926, -87.388785], [47.56639000000001, -122.68139], [39.627924, -77.775035], [30.447298, -91.031832], [34.1006, -118.478], [34.069817, -118.261297], [29.794566, -95.47616], [40.067335, -75.14632399999998], [35.772437, -78.587289], [41.87569000000001, -87.69614], [47.824476, -122.272915], [29.667240000000003, -95.312936], [30.512955, -87.218758], [37.140001, -77.356613], [25.58101, -80.37111], [37.473952, -120.848923], [28.019459, -82.74544], [33.903672, -118.185528], [33.912992, -84.39178299999998], [29.051122, -82.00099300000002], [32.661677000000005, -117.077683], [34.09454, -118.20611], [34.165014, -118.474892], [34.035712, -118.170145], [33.925856, -117.422137], [43.573379, -116.245625], [28.230029, -82.19567099999998], [41.97136, -91.67402], [38.714429, -85.243879], [25.761779, -80.33972299999998], [40.739875, -73.845899], [40.50047100000001, -111.936874], [38.644784, -77.286576], [41.904625, -124.136618], [39.090263, -85.275754], [32.925713, -96.824822], [29.67435, -95.26679], [32.7507, -96.768219], [33.851674, -117.971396], [47.589308, -92.224634], [42.42456, -123.16376], [34.102216, -118.317099], [30.387453000000004, -97.553407], [25.840751, -80.369437], [40.67296500000001, -73.734935], [27.201453000000004, -82.441611], [38.76157, -77.18358], [33.564759, -117.657949], [40.10294, -77.80512], [37.889164, -121.6965], [37.890637, -122.307775], [39.26555, -76.712212], [41.90686, -87.92071], [25.928324, -80.19283100000001], [33.89865, -84.47028], [39.88518, -104.88213], [35.93832000000001, -84.00865], [33.433402, -112.590901], [37.978524, -120.331069], [37.991533, -122.300376], [30.520693, -91.17006], [45.484509, -122.5659], [28.421361, -81.403542], [41.650291, -93.591381], [33.1395, -117.14433], [37.771356, -121.325767], [41.67315, -87.66178000000002], [33.534318, -112.041481], [34.61007, -79.696434], [41.808374, -88.079169], [45.649911, -120.9375], [40.117125, -76.177228], [26.67872, -80.14875], [26.033427, -80.164488], [32.85122, -96.82003], [37.304645, -121.87888], [37.14609, -121.98586], [39.015234, -77.122782], [38.128813, -79.035719], [39.930529, -75.097751], [33.68927, -117.91931], [29.91279, -95.41267], [39.375536, -77.478499], [37.96318, -122.37361], [28.593643, -81.244754], [37.448485, -119.647841], [34.152217, -118.282552], [33.48049, -112.155574], [33.50911, -84.23495], [44.001992, -123.655618], [45.948273, -123.924228], [25.924928, -80.20939200000002], [29.381178, -98.639869], [44.85936, -93.40998], [34.085054, -118.86142], [37.265356, -76.65145], [32.764419000000004, -117.158203], [33.923055, -118.291795], [34.067429, -117.42777], [28.452939, -81.400159], [28.899894, -82.420014], [33.888342, -118.104571], [32.9785, -96.92689], [33.875577, -117.26518], [33.800178, -84.397176], [38.552647, -121.469511], [29.80597, -95.56354], [38.085941, -122.111653], [45.511282, -120.683645], [36.300598, -86.71125699999996], [34.867251, -82.237026], [46.358345, -112.74143], [34.06771, -117.98162], [30.168928, -81.596253], [25.810617, -80.14191600000002], [37.76945, -84.31654], [34.152217, -118.282552], [35.45367, -80.84284], [39.6175, -77.78581700000002], [39.150048, -76.751364], [35.17452, -80.80209], [36.773774, -76.254758], [35.832971, -78.675552], [40.726035, -73.903086], [34.00897, -118.41578], [38.806961, -76.983529], [37.733299, -77.452377], [44.944601, -93.34807], [32.653841, -96.756486], [40.8763, -73.11796], [41.80862, -71.40475], [33.36422, -111.84187], [32.820207, -96.821934], [28.567687, -81.291647], [43.105268, -76.053224], [35.171479999999995, -111.6657], [44.05437, -121.30704], [37.974781, -122.058641], [39.73576, -75.56364], [42.60678, -71.3356], [37.700647, -121.79659], [25.786017, -80.189243], [38.572955, -121.576918], [30.468046, -91.101596], [32.760474, -117.109105], [40.59696, -74.625288], [33.538309000000005, -86.792775], [32.92582, -96.81125], [35.679751, -120.748141], [32.765993, -97.315262], [42.832121, -83.73232], [37.295083, -120.477906], [40.166787, -75.0718], [30.806342, -86.553012], [38.82512, -90.52136], [34.549467, -82.674276], [40.230279, -122.288317], [33.03318, -117.27922], [39.30114, -76.50161999999997], [40.480525, -74.294434], [44.7906, -123.03567], [38.444073, -122.602489], [43.172662, -124.186483], [33.97392, -118.080184], [33.921549, -117.880046], [35.63641900000001, -77.723733], [33.93631, -118.09346], [43.722674, -122.349125], [33.609790000000004, -84.39609], [38.904825, -77.016164], [32.48917, -85.63231999999998], [37.458316, -121.924015], [47.002663, -109.274232], [32.227205, -110.85604], [35.794605, -80.932642], [36.453229, -81.56738399999998], [33.92096, -118.36857], [27.94144600000001, -82.32934200000003], [26.527137, -80.072863], [25.796817, -80.324349], [42.768305, -73.761981], [40.080594, -75.181488], [37.86722, -122.20092], [46.873198, -122.968253], [44.85812, -93.536393], [37.078739, -122.083157], [42.415448, -88.066947], [35.845432, -78.680284], [39.993864, -75.26590999999998], [34.433736, -118.385746], [35.103518, -80.98904], [39.670727, -104.829219], [25.881657, -80.35433499999998], [34.04091, -118.07496], [36.378458, -119.296871], [44.469849, -121.195848], [39.06850900000001, -76.65033199999998], [43.17075300000001, -77.68329], [41.59325, -93.71946], [38.478552, -121.508713], [28.346923, -81.645414], [30.27182, -97.7323], [32.166119, -81.039467], [37.543631, -77.370605], [40.645369, -111.944664], [36.05647, -119.147932], [40.67314, -73.80145], [34.03379, -118.38618], [33.551495, -112.112022], [44.629417, -123.043929], [28.569417, -81.268046], [44.43697, -119.313697], [25.900188, -80.168648], [36.814617, -119.817395], [38.66843, -90.44884], [41.094869, -73.802544], [36.176465, -86.80070699999996], [38.304409, -87.567335], [38.143496, -76.892792], [29.102096000000003, -82.010302], [34.106848, -117.27877], [48.136579, -101.14799], [39.0459, -94.41054], [46.79183, -92.88173], [31.77121, -106.37743], [47.565348, -122.185464], [26.641156, -81.84071800000002], [39.94186, -104.98781], [34.017971, -117.093881], [40.73208, -73.87064000000002], [42.493261, -83.300431], [42.415398, -88.0479], [34.114859, -118.268294], [39.803069, -86.165932], [34.25597, -118.32609], [42.1882, -83.38826999999998], [37.44404, -122.25607], [37.711054, -120.822626], [36.086429, -86.69872600000002], [39.182216, -120.849705], [41.119868, -73.705106], [28.501779, -81.39697199999998], [38.799771, -77.051109], [34.30463, -84.41848], [33.999942, -117.062726], [30.340965, -81.760607], [41.517795, -94.128917], [33.788740000000004, -82.48037], [34.889439, -81.972297], [34.161821999999994, -118.469634], [28.882439, -81.280937], [33.376618, -117.251433], [37.601682, -121.008595], [38.749691, -76.879824], [36.94363, -76.26646], [34.013290999999995, -117.342092], [25.793708, -80.321077], [28.449937, -81.349898], [25.656062, -80.418763], [28.451938, -81.400468], [40.062535, -76.55020400000002], [37.30324, -122.0351], [36.51762100000001, -119.484676], [38.937033, -76.965784], [40.051112, -76.41499499999998], [38.979289, -94.509381], [40.80459000000001, -73.91885], [33.993215, -81.306488], [34.339994, -117.468718], [30.494503, -87.222371], [32.763115, -96.775305], [33.856097, -118.095763], [42.364049, -87.990163], [37.2519, -121.93744], [32.854971, -96.646859], [33.97065, -118.233937], [34.222839, -118.237828], [35.088285, -85.21776700000002], [33.877039, -118.134094], [32.808409999999995, -96.84431], [45.6128, -122.67823], [37.06382, -104.52031], [43.0245, -88.10093], [34.004731, -118.173027], [42.237327, -85.637342], [26.10823, -80.28811999999998], [28.273661, -82.147572], [37.869099, -122.040449], [43.16449, -77.73243000000002], [30.746837, -85.430642], [36.965056, -76.413441], [28.036571, -82.062359], [25.538164, -80.372068], [28.755917, -81.88638900000002], [26.03953, -81.700401], [40.691632, -73.884462], [46.60924, -90.764948], [42.349194, -83.593406], [37.463522, -120.84908], [32.826436, -96.783692], [45.569919, -122.678737], [36.48891, -119.516905], [45.502592, -122.673221], [41.8107, -71.44064], [28.485668, -81.41736], [34.054506, -118.202994], [38.955158, -76.715599], [37.70027, -121.77743999999998], [47.670224, -122.321702], [33.81531, -117.51178], [35.11725, -80.95756], [37.919428, -122.317568], [42.448658, -123.320679], [39.140813, -75.925976], [40.180856, -75.17479399999998], [33.480328, -111.890213], [27.42793, -81.41781], [32.501773, -93.762093], [38.709251, -77.451937], [38.976218, -77.310503], [33.504394, -117.152842], [33.956733, -117.548786], [34.085215000000005, -118.361509], [39.412883, -76.61600200000002], [43.008071, -83.685125], [47.41056500000001, -115.514255], [36.324295, -119.6067], [25.900196, -80.162624], [38.541072, -121.475776], [39.015978, -76.927193], [32.84046, -117.13828999999998], [37.771356, -121.325767], [38.544427, -122.648033], [26.682188, -81.896182], [35.900368, -78.62878], [28.685663, -80.877864], [40.61599, -122.277767], [30.403287, -87.334941], [34.34491, -118.504706], [37.418813, -121.968915], [36.882251, -76.215108], [32.717835, -117.148598], [44.303816, -93.95702], [45.722953, -123.199726], [44.859567, -93.394628], [45.829607, -95.140045], [39.105791, -84.297874], [27.446269, -82.504292], [37.462418, -122.1444], [32.912557, -96.87629], [47.470303, -122.268658], [37.283084, -120.324272], [40.65485, -111.90185], [39.719751, -86.264599], [38.407591, -112.654055], [40.85497, -73.19709], [37.78351, -121.19678], [35.016506, -85.385795], [33.82195, -118.20685], [26.282212, -80.125037], [36.876304, -77.822386], [37.55084, -122.376], [29.35645, -98.41508], [33.930738, -118.258164], [42.01932, -87.94697], [39.02619, -104.42332], [34.084385, -80.96191], [40.76444, -111.97243], [45.665253, -111.18693], [38.663961, -121.229654], [37.550915, -77.437976], [36.973896, -120.639081], [30.319122, -81.770585], [34.856781, -82.256478], [33.928023, -118.237041], [35.30853300000001, -120.82627], [37.958507, -121.232909], [38.37315200000001, -77.531052], [45.67793, -123.18763], [34.311941, -117.473033], [39.3511, -106.32423], [27.828342, -82.690854], [39.261757, -76.708141], [45.943186, -95.595465], [45.174045, -93.527174], [39.722679, -121.80653999999998], [34.08166, -83.996948], [41.36583, -72.92254], [34.279207, -118.455451], [41.763356, -72.695363], [41.767778, -72.668213], [41.78862, -87.946914], [41.511125, -74.206462], [32.708648, -117.098248], [40.667663, -111.981421], [37.551028, -77.438401], [43.08376, -85.35244], [33.91183, -84.37395], [34.864263, -118.178182], [34.099419, -86.407106], [39.694987, -86.190866], [45.070145, -93.294058], [45.53504, -122.65451000000002], [29.786811, -81.362011], [25.68692, -80.416652], [28.33277, -81.58630500000002], [39.881953, -76.890609], [40.59216, -111.97731], [25.715104, -80.396569], [39.83525, -84.63405999999998], [40.184044, -75.540545], [41.025856, -76.080375], [41.76255, -87.94015999999998], [34.506667, -117.399533], [33.911354, -117.88374], [45.150729, -122.701932], [26.546164, -81.786186], [34.054216, -118.209704], [29.009225, -80.985251], [38.475443, -77.40019000000002], [35.011468, -81.92479499999997], [37.574528, -121.885293], [28.61133400000001, -81.42975], [30.012655, -90.012173], [38.524879, -121.465374], [29.654741, -81.65585899999998], [27.462372, -82.589013], [36.152198, -86.791873], [33.38563, -111.95325], [35.579824, -78.667664], [34.028236, -118.22995], [40.64468, -75.00089], [41.144364, -87.39088000000002], [40.70836, -111.90396], [34.066314, -117.558068], [27.803222, -82.744135], [34.63192100000001, -77.767399], [34.185779, -118.473832], [34.067681, -117.981357], [34.029428, -117.329795], [33.612704, -117.436175], [44.91966, -93.27449], [33.157949, -117.207208], [34.154793, -118.448686], [40.97845, -73.69629], [25.765911, -80.336376], [34.121033000000004, -117.828757], [41.90624, -87.93983], [28.4539, -81.470814], [44.10931, -121.29516], [33.641856, -84.45253100000002], [33.729883, -117.290629], [32.807997, -96.862404], [36.036734, -77.836125], [41.98234, -87.7926], [38.871806, -76.98214300000002], [43.1856, -112.375051], [25.746353, -80.38006], [43.529161, -124.21587], [40.758901, -74.11594699999998], [44.746364, -93.379603], [25.804796, -80.310864], [40.756123, -78.687762], [44.96602100000001, -93.247715], [26.455078000000004, -81.78613100000003], [30.431763, -91.057216], [35.32078, -80.95255], [41.6048, -72.703461], [43.428335, -75.216543], [42.974632, -83.672724], [38.58718, -121.50362], [39.294452, -122.034704], [40.002538, -75.22369300000003], [30.541896, -83.85784699999998], [38.865817, -77.324984], [34.352052, -117.442302], [34.238982, -118.416096], [35.146393, -80.924829], [47.290531, -122.298849], [28.70791, -81.467747], [38.702469, -76.87619000000002], [34.048525, -117.394186], [33.53852, -112.18581100000002], [45.471459, -121.120475], [45.129955, -93.376444], [29.962840000000003, -90.151878], [45.03485, -121.510877], [42.74435, -71.21061999999998], [42.921655, -85.66642399999998], [37.822692, -122.3201], [40.53585, -111.89292], [37.60262, -122.06388], [27.947598, -82.53151700000002], [39.807339, -75.96643900000002], [34.272442, -118.556094], [33.867107, -117.744831], [40.335627, -80.135039], [47.515219, -122.19827], [38.595976, -121.402845], [34.06371, -117.2717], [38.574666, -121.38117], [34.134521, -117.663103], [37.238121, -121.761955], [33.208568, -87.540582], [28.188681, -82.361624], [27.99601, -82.357548], [33.851119, -117.879706], [41.908606, -112.594863], [28.0032, -82.709], [38.894788, -121.081985], [36.761988, -121.752932], [40.14221, -75.38971], [40.02079000000001, -76.868721], [32.771840000000005, -96.77836], [38.296998, -85.754545], [33.643021999999995, -83.988899], [38.150035, -122.451113], [34.040826, -118.218694], [36.62477, -111.65369], [41.904686, -88.125567], [32.771974, -96.757268], [29.58789, -98.59773], [47.29367, -93.53355], [35.07164, -89.85638], [37.623969, -77.63802700000002], [32.67048, -96.9406], [33.680581, -117.761112], [30.452618, -91.202733], [39.00077, -94.35692], [39.6278, -84.18836999999998], [33.775504999999995, -117.853062], [32.194136, -83.747266], [39.012418, -76.495603], [26.18241, -80.15254], [25.869564, -80.323174], [37.361186, -120.849426], [32.746928000000004, -117.164988], [36.138268, -119.183348], [35.076197, -89.992858], [39.605832, -121.529363], [43.93767, -91.97181], [38.025172, -121.071553], [31.76078, -106.26729], [40.383095, -123.018183], [47.60631, -122.33466], [38.625, -121.51646], [30.442398, -97.799024], [40.190418, -75.53085300000002], [36.774478, -119.840908], [32.88884, -117.204202], [32.676471, -96.926388], [35.797746999999994, -78.5566], [34.018876, -117.719831], [35.79748400000001, -78.56294], [44.209885, -94.105554], [38.692963, -121.456848], [28.46612, -81.46500999999998], [33.391459999999995, -111.97837], [34.120823, -117.389131], [47.464637, -121.712755], [37.52466, -121.99233], [37.764818, -121.360262], [33.961597, -118.256396], [45.50292, -122.67337], [34.042952, -118.272653], [32.777296, -117.162657], [34.041535, -118.270099], [34.979513, -82.005912], [27.296124, -82.53048299999998], [32.832874, -86.59128199999998], [36.78824, -121.729033], [43.663669, -116.27926399999998], [34.601947, -118.142705], [37.148046, -93.253037], [45.07155, -122.68741], [25.796986, -80.335534], [38.831917, -77.107833], [41.511202, -72.816582], [40.69058, -73.574141], [40.7213, -73.39518000000002], [39.584586, -77.833697], [26.542968, -81.83934], [32.754797, -117.201757], [39.553332, -122.19356], [40.76463, -111.97243], [34.197038, -80.105363], [34.029094, -118.226082], [34.939167, -118.929444], [33.492553, -81.262961], [39.11427800000001, -94.564581], [33.612402, -86.810692], [28.65752800000001, -81.388244], [40.130547, -75.404926], [33.674887, -117.8384], [29.77746, -95.83236], [25.762379, -80.303877], [42.5058, -82.91801], [28.659296, -81.231032], [38.957845, -77.192284], [36.288818, -84.213674], [32.969825, -80.145101], [34.063687, -118.215285], [33.939331, -84.155091], [42.891657, -83.585789], [44.97296, -93.40901], [34.126125, -118.071979], [34.072124, -117.942625], [33.601592, -112.18588], [28.486787, -81.42019300000003], [40.76242, -124.190579], [39.298671, -84.526815], [37.640243, -122.090452], [36.962538, -76.270034], [40.75699, -74.0542], [37.96482, -121.740552], [28.566762, -81.286012], [28.259823, -81.590038], [40.72227, -112.04651], [45.52868, -122.66533], [39.030245, -76.853528], [34.259693, -118.315742], [29.39821, -98.38915], [32.907659, -96.899635], [40.587397, -75.581427], [34.037094, -118.29491000000002], [43.254836, -123.359802], [37.17803, -76.55326], [34.420891, -119.6214], [40.526129, -74.32591], [36.135612, -94.182212], [44.457646, -95.655094], [43.14386, -77.61824], [44.78197, -93.46977], [34.00490300000001, -117.930245], [40.706971, -111.90363], [33.378602, -112.116454], [41.962522, -87.87593000000004], [37.567057, -76.611805], [33.214003000000005, -117.389621], [43.149737, -123.365017], [37.54781, -121.91967], [32.798404999999995, -96.626096], [42.07311, -88.3356], [36.489039, -119.789761], [34.434961, -103.8442], [47.030271, -112.129801], [40.718055, -112.114431], [34.216672, -117.288011], [34.067541, -117.558063], [36.973038, -77.392748], [38.348541, -119.361922], [36.267812, -86.717373], [38.263695, -122.659122], [40.07155, -77.916638], [40.402991, -79.522764], [26.508925, -81.904787], [34.061369, -117.575887], [40.975234, -80.275475], [34.90546, -82.60144], [38.496202, -121.439653], [30.536716, -87.337912], [44.97513, -93.28551], [34.24232, -118.41962], [34.638217, -81.971489], [35.096746, -106.566511], [25.72927, -80.367622], [34.194441, -118.331393], [44.40562, -123.91462], [34.114518, -79.710796], [38.254742, -77.428003], [40.85333, -73.96133], [26.962021000000004, -82.35185200000002], [36.663106, -114.570448], [38.248762, -121.273149], [39.633586, -104.906788], [37.44721, -122.125516], [39.474649, -111.988941], [43.012912, -88.226603], [30.196661, -93.250914], [35.72359, -78.582974], [38.993131, -76.518107], [32.86693, -96.66617], [25.940891, -80.121414], [32.25028, -110.9936], [43.63113, -95.57614], [34.256683, -118.434866], [37.112681, -76.47289], [27.34741, -82.16157], [37.699057, -121.89124], [35.51123, -97.5923], [44.842297, -93.398833], [35.46435, -97.70686], [40.203218, -110.79204], [30.504192, -84.124634], [40.933408, -120.510805], [40.65943, -111.88832], [38.964012, -76.904073], [34.1611, -118.469614], [28.403252, -81.50310999999998], [25.769466, -80.33815899999998], [28.183948, -82.539574], [34.072628, -118.220131], [36.510797, -121.436229], [25.715169, -80.391006], [38.59747, -121.503413], [45.157868, -122.602741], [36.886449, -121.684547], [42.954571, -124.106551], [36.543526, -119.59226], [27.887815000000003, -80.520634], [37.14435, -121.98468], [40.69678, -74.27135], [37.922761, -121.293237], [28.274011, -81.18226899999998], [43.028473, -70.824836], [28.45975, -80.821191], [41.86375, -88.1948], [39.794894, -78.223102], [38.484635, -122.740167], [32.640289, -96.857179], [33.632251000000004, -111.897093], [34.153906, -118.157402], [36.749565, -120.024338], [33.495016, -112.109215], [30.254006, -97.730749], [34.21709, -80.592899], [37.191581, -76.56275500000002], [36.987838, -121.962854], [30.19146, -81.7151], [34.071328, -118.250584], [38.66829, -122.5882], [34.237474, -117.657836], [39.648982, -77.568343], [30.490532, -87.260286], [42.717016, -84.50482099999998], [40.69057, -73.99886], [33.989937, -117.913383], [44.966089, -93.258176], [40.256544, -75.657248], [43.113223, -123.356323], [33.559072, -117.673123], [37.960597, -121.333953], [34.14245, -118.735395], [36.038128, -86.646866], [41.246261, -73.095887], [44.093283, -93.955907], [34.07163, -118.110429], [42.279638, -87.872161], [26.72549, -81.90657900000002], [37.340665, -121.928504], [31.92637, -81.33072], [36.040555, -86.771067], [37.547854, -77.431439], [34.077698, -118.291704], [41.042647, -82.125869], [43.055648, -76.111878], [32.413027, -80.651341], [25.71858, -80.295697], [27.960595, -82.72573299999998], [30.411904, -86.72333], [29.66658, -81.55359], [40.436501, -74.137924], [43.145219, -123.382127], [33.026565000000005, -96.992826], [38.88563, -77.15635999999998], [39.776647, -104.877498], [37.647184, -122.095685], [34.06728, -117.55282], [30.436213, -91.084031], [32.131148, -81.556984], [34.714694, -120.489481], [35.148053000000004, -80.829296], [38.737777, -77.53189], [45.593888, -122.683652], [26.564696, -80.069905], [41.22853900000001, -75.49270600000001], [34.067464, -117.58678700000002], [39.288618, -76.532955], [42.96073, -87.93437], [25.896638, -80.25994399999998], [39.767582, -84.21002800000002], [33.950399, -118.045625], [28.039737, -80.659601], [27.485535, -82.562711], [36.58891, -86.60462], [30.359792, -91.053056], [40.64406, -74.66296700000002], [43.94368, -94.88165], [42.485598, -83.267298], [33.840909, -117.331105], [34.07204, -117.79097], [33.88078, -117.61318], [29.99758, -90.04417], [34.120026, -117.819517], [36.085485, -86.728702], [25.748801, -80.335788], [32.339125, -111.068912], [33.921111, -82.114825], [36.998195, -121.502702], [38.92306, -76.932011], [33.778656, -117.876554], [33.122506, -111.845758], [41.87402, -87.73034], [33.112186, -80.261688], [25.948824, -80.351435], [26.722113, -80.13561999999997], [30.32736, -81.60777], [42.983353, -76.274602], [35.394696, -83.476456], [37.61301, -120.970748], [44.722297, -93.410974], [25.921218, -80.291063], [28.789597, -81.986106], [34.081583, -117.723011], [36.673409, -121.640636], [32.833982, -117.11886], [39.1262, -84.54892], [34.318248, -110.247784], [40.767912, -73.837991], [34.151859, -80.815968], [38.587358, -121.503712], [41.432565, -72.805355], [37.970455, -121.148697], [39.94867, -82.67851999999998], [33.886328000000006, -117.285515], [37.031043, -81.119191], [42.19682, -87.83059], [38.77419, -77.18122], [39.11273, -77.657122], [37.167102, -76.54723], [30.210481, -97.71467], [39.96631, -75.52051999999998], [41.50121, -81.48013], [33.94077, -118.03224099999998], [36.209992, -86.776051], [37.362804, -121.843058], [37.485245, -77.518167], [29.952431, -90.086506], [33.907765000000005, -118.181656], [37.811075, -121.992628], [35.73563400000001, -80.09778299999998], [33.430803000000004, -86.710985], [36.981471, -120.084117], [37.51938, -77.51614000000002], [38.96041, -76.79906], [45.532976, -122.632387], [37.419541, -77.42773199999998], [41.22108, -96.09083], [32.772115, -117.136443], [42.48961, -90.63963], [45.002495, -123.902716], [38.066302, -90.486717], [36.919122, -119.793844], [25.884934, -80.210718], [37.364135, -122.124481], [44.929264, -93.023504], [36.07902, -79.9544], [30.243439, -81.76272], [40.025542, -75.02815600000002], [41.42261, -81.84438], [34.678847999999995, -92.35544], [33.89956, -117.47298], [45.95267, -118.38741], [30.026509000000004, -90.009263], [43.635871, -116.243483], [34.063748, -117.819136], [40.72954, -74.223304], [36.707412, -119.699908], [33.46268, -112.19308], [38.235994, -121.60428600000002], [34.082497, -84.68168299999998], [38.8225, -77.01658], [40.029068, -76.33514], [40.70644, -74.0024], [45.36754000000001, -93.96944], [31.829963, -106.304692], [36.683945, -121.646934], [43.253291, -123.359738], [37.222288, -93.306162], [26.211138, -80.136969], [45.025244, -123.44651299999998], [36.772567, -77.743381], [31.20402, -94.77664], [37.262607, -121.859076], [40.637236, -74.01996700000002], [39.911516, -75.115813], [42.631083, -123.381839], [29.770137, -95.606367], [25.883637, -80.243199], [40.323439, -75.929893], [29.961987, -90.061178], [25.850362, -80.322286], [41.75329, -87.87281999999998], [33.458711, -83.549651], [25.796823, -80.32386], [33.987659, -117.893517], [27.252166, -82.478584], [40.47874, -104.56463], [33.3855, -111.93106], [28.634051, -81.47635799999998], [25.76089, -80.416907], [45.491958, -123.654472], [45.501776, -122.674251], [28.23193, -81.65016], [41.71814000000001, -72.649828], [37.963437, -121.225584], [34.135949, -117.353355], [36.331922, -86.586689], [47.617627, -122.302568], [42.846788, -74.021958], [25.969936, -80.194404], [34.030332, -118.218836], [39.92169000000001, -74.94755], [44.56394, -123.23494], [25.80329, -80.38600000000002], [25.735688, -80.335859], [46.16643, -123.837871], [33.881459, -117.648505], [42.15399, -87.91548], [33.547271, -117.672775], [33.937293, -118.098553], [33.61717, -84.39841], [35.796232, -119.108507], [41.344728, -72.97072299999998], [40.68393, -74.0014], [45.496636, -117.935498], [45.223621, -123.083471], [29.558297, -81.221441], [38.327197, -77.50089200000002], [37.57284, -77.47659], [40.711656, -91.564846], [43.55397, -70.42508000000002], [25.778655, -80.265541], [32.79497, -96.719389], [37.949292, -121.227099], [33.73734, -84.58243], [47.60828, -122.33055], [44.156387, -117.4188], [47.369982, -122.244543], [26.556690000000003, -81.91037800000002], [40.74261, -74.08595], [37.775463, -120.852301], [36.28992, -88.73635999999998], [32.89385, -79.98304], [32.81269, -96.7542], [39.45911, -105.66011], [42.971982, -85.67087], [43.027986, -78.978577], [34.037586, -118.281029], [32.692919, -117.121649], [27.96506, -82.44955999999998], [38.736849, -90.333251], [34.259722, -118.438071], [34.03061, -117.62342], [30.019722, -89.963034], [42.336126, -73.858906], [30.165784, -81.702929], [37.377988, -121.903299], [30.00925, -90.24421], [34.909654, -118.924158], [34.067631, -117.573603], [38.213986, -122.137239], [45.530795, -122.665323], [45.438313, -122.578956], [28.448391, -81.364034], [45.340129, -118.086502], [32.357825, -86.21624399999996], [39.69064, -84.09925], [34.066725, -117.238379], [37.410953000000006, -122.075131], [42.64557, -73.69795], [39.47781, -77.17456999999997], [30.18951, -81.70366], [38.592432, -121.401483], [43.00477, -83.808637], [35.15130300000001, -85.218513], [27.365987, -82.513942], [34.440267, -82.734025], [34.818512, -82.276886], [34.692555, -82.985582], [36.897359, -76.233805], [25.828873, -80.32168100000001], [41.52783, -73.20375], [47.56686, -122.32048], [39.957014, -75.15545], [32.870945, -82.395596], [34.033303000000004, -118.12502], [40.033889, -76.49959799999998], [26.146076, -80.451217], [40.248188, -75.65848299999998], [34.0958, -117.30201], [32.907539, -96.729608], [33.862571, -117.263281], [39.217163, -104.877151], [35.558475, -119.197894], [25.701238, -80.334038], [41.02033, -81.4969], [33.257765, -117.237303], [35.49655999999999, -119.15999], [33.775309, -117.873526], [30.406722, -91.100259], [37.211519, -122.156306], [46.137095, -94.577168], [29.898327, -95.411878], [39.924261, -83.01201], [28.54708, -81.27017], [33.820785, -84.36003199999998], [38.736523, -77.19246700000002], [30.001499, -95.270063], [36.30807100000001, -86.80073], [36.045277, -86.717085], [25.732155, -80.38143000000002], [34.08262, -118.22663], [43.18736, -77.65942], [34.033308, -118.125032], [30.30837, -97.945386], [33.704370000000004, -84.40405], [39.5403, -119.78802], [33.835541, -117.941498], [39.28941, -94.57542], [28.158495, -81.789378], [34.222198, -117.065645], [40.75089000000001, -111.6098], [33.122166, -117.103061], [44.973759, -93.249479], [41.251182, -122.136798], [34.066759999999995, -117.21251], [25.500491, -80.445235], [34.137555, -81.153602], [35.116963, -85.291074], [25.948471, -80.120921], [43.069099, -73.533843], [45.383051, -94.008067], [42.39199, -123.46441000000002], [42.962669, -78.920749], [44.814938, -93.221218], [38.622888, -80.88323199999998], [39.303902, -120.671397], [37.99662, -122.07193999999998], [25.880906, -80.226609], [39.374592, -76.453209], [37.700839, -121.794374], [25.586608, -80.386566], [45.388845, -118.319478], [37.80771, -122.36764], [34.037845000000004, -118.274105], [35.22421, -80.89108], [43.759843, -75.475484], [40.45028, -104.9919], [38.024647, -78.53002], [34.78324, -118.625547], [38.610391, -121.369059], [34.06898, -118.21689], [34.058611, -118.454588], [26.713525, -80.137399], [40.003076, -74.850915], [44.89982, -122.94118], [27.49613, -82.63662], [40.718413, -73.58064], [38.770542, -90.339174], [42.965034, -85.637798], [41.60305, -73.06577], [44.87613, -93.0309], [34.070253, -118.26801], [42.505594, -122.811821], [25.794325, -80.238373], [41.88811, -88.10684499999998], [46.847506, -96.867862], [25.966722, -80.16575300000002], [37.035253, -81.125844], [34.263649, -119.091411], [39.141572, -77.64818000000002], [27.996305, -82.384737], [33.325724, -84.515321], [40.84937, -73.94006999999998], [33.492052, -117.246093], [39.26667, -76.61332], [37.46135, -77.500557], [25.769165, -80.349942], [33.962307, -81.271598], [27.950714, -82.513137], [43.139201, -77.53915400000002], [29.77055, -95.185546], [33.014004, -117.268987], [30.383882, -97.713332], [35.33263, -80.79908], [28.220458, -81.44034], [35.07471, -80.74694000000002], [45.846861, -119.290178], [45.50365, -122.67455], [43.70117, -124.08701], [43.735663, -93.320349], [39.423354, -76.638468], [45.601211, -123.025623], [41.02242, -73.617246], [33.71976, -117.79508], [34.033621000000004, -118.220014], [34.299383, -118.41933600000002], [36.075411, -95.891416], [39.04475, -94.38389], [30.340202, -81.668254], [33.7591, -117.464171], [38.985314, -76.53958], [40.71914500000001, -111.869452], [45.64683, -110.889011], [29.914865, -95.412675], [34.837575, -82.366076], [34.005185, -117.829276], [39.303902, -120.671397], [28.44649, -81.475714], [45.09163, -93.44614], [35.350842, -119.17968700000002], [39.561097, -76.392648], [44.967152, -93.22336], [45.67998, -92.99045], [40.076998, -75.11036], [34.074686, -118.27316100000002], [32.786738, -96.573505], [33.44555, -92.17416], [38.847656, -77.427065], [33.093298, -80.031162], [25.908409, -80.16310899999998], [44.91353, -93.50418], [38.629745, -90.345989], [38.65577, -77.27574], [40.73949, -111.99029], [33.65465, -112.13448], [47.312725, -93.323267], [27.70196, -82.6792], [33.439668, -86.72578399999998], [35.369493, -118.967481], [34.02698, -118.209173], [33.228261, -85.240347], [34.035771000000004, -117.550062], [42.233168, -88.147348], [39.279118, -76.857106], [28.548064, -81.381949], [35.854898, -78.700932], [25.801352, -80.20574], [25.85225, -80.20814], [35.44142, -80.737101], [39.510882, -119.858825], [27.448743, -82.575404], [32.828661, -111.989382], [40.38436, -76.26841999999998], [33.459709000000004, -112.510417], [47.886937, -122.260738], [36.136421, -95.96721], [38.832281, -104.833656], [45.63874000000001, -118.68494], [33.687519, -117.885656], [30.518236, -87.175123], [33.722213, -117.974756], [42.926922, -85.587049], [25.776586, -80.31234599999998], [35.87135900000001, -120.86788], [39.612469, -74.42526099999998], [35.58004000000001, -97.63848], [38.616896, -122.773263], [34.000883, -117.844104], [36.298474, -119.709252], [34.919166, -89.992188], [33.82756, -118.08237], [41.79003, -87.82453000000002], [38.7877, -90.542522], [34.36135, -118.50578], [33.13512, -96.83006], [39.35083, -121.659882], [30.502864, -87.268813], [25.702025, -80.33959499999997], [33.998554, -118.147262], [43.614656, -116.354683], [33.811887, -118.290389], [40.74685, -73.42225], [34.216487, -94.052048], [38.828781, -76.991582], [44.07989, -123.04739], [44.861759, -93.278279], [39.087652, -77.044831], [44.77821, -93.21707], [35.34119099999999, -119.039683], [38.875776, -76.97084699999998], [34.160646, -118.293002], [41.538803, -73.90094599999998], [30.440256, -91.045894], [41.729019, -87.624388], [40.544808, -111.89871200000002], [44.8619, -93.29488], [33.67689, -117.84348], [37.3172, -121.93203], [39.173845, -120.859812], [43.065916, -77.689358], [36.17644, -119.493254], [42.34144600000001, -83.117021], [37.30875, -77.39608], [38.226278, -77.11426999999998], [33.96679, -118.164841], [34.024314000000004, -117.11136100000002], [37.679151, -122.12732], [45.530401, -122.637108], [42.96749000000001, -71.41386], [34.055374, -118.187881], [42.878114, -73.773988], [33.041593, -87.36440400000002], [39.312096, -119.824608], [32.445133, -93.729848], [28.144879, -82.462296], [38.880064, -76.947406], [25.78613, -80.213043], [26.758438, -80.13412199999998], [25.687938, -80.41644000000002], [25.85039, -80.322643], [38.229136, -77.15062900000002], [36.958892, -76.410589], [37.83583, -122.484694], [25.88264, -80.25128000000002], [30.353411, -90.915331], [41.765705, -72.688796], [40.768798, -73.837175], [45.60602, -94.429084], [40.126516, -86.517551], [33.487647, -86.787], [35.36379, -80.82575], [41.52466, -73.88596], [33.011957, -80.113651], [38.988643, -76.883236], [30.224578, -81.573534], [38.606821, -121.384153], [30.334635, -81.663726], [39.39598, -76.68738], [34.097669, -118.246125], [40.60711, -122.361828], [48.385664, -114.065397], [38.63035, -90.14142], [34.421325, -119.611212], [35.266875, -118.949865], [25.728665, -80.432342], [36.66358, -119.699852], [32.958502, -97.310628], [42.363399, -79.524847], [28.49616, -81.396924], [38.019981, -78.535078], [39.901477, -79.268958], [34.175655, -118.853478], [34.010788, -118.420751], [34.477732, -120.228496], [33.109949, -117.314617], [26.544801, -81.852424], [38.24818, -85.59886999999998], [35.90254, -78.805029], [30.520177, -82.95979200000002], [37.78132700000001, -122.238596], [37.82662, -122.26733], [32.134062, -110.977826], [43.020922, -85.634001], [38.350399, -77.480918], [33.976879, -118.085624], [33.982154, -118.252387], [34.067479, -117.83459], [36.923734, -120.021842], [37.65528, -77.22700999999998], [33.95657, -117.30677], [34.03655, -118.15644], [45.343473, -118.237049], [38.75382000000001, -90.33921], [42.422918, -123.20295], [38.209432, -122.148727], [43.155252, -77.60319], [39.642924, -84.157658], [41.319161, -72.89386800000003], [42.757072, -73.615981], [26.01657, -80.16736999999998], [34.228286, -118.473251], [33.911219, -118.165601], [38.81913, -76.91499], [40.15187, -75.228034], [47.761356, -122.325002], [40.72806, -111.98639], [33.176602, -84.26706999999998], [33.410829, -111.98449], [45.525903, -122.660142], [32.925212, -96.788305], [37.117985, -76.45650699999999], [39.74984, -105.01722], [32.94851, -96.7362], [38.825206, -121.152128], [30.45394000000001, -81.651195], [33.981884, -118.074829], [35.2768, -80.80864], [33.670209, -112.186816], [41.67018, -72.83731], [36.996903, -120.103062], [34.96555, -81.98893000000002], [37.25391, -80.179137], [34.016251000000004, -118.054877], [47.425582, -111.424612], [45.065648, -93.233396], [37.0184, -122.027946], [41.864914, -87.91736999999998], [32.59491, -117.088673], [44.77805, -93.55639], [47.652736, -92.865961], [38.85848, -77.86453], [30.251525, -97.684986], [33.961690000000004, -118.369306], [38.459626, -77.40952800000002], [25.928134, -80.200787], [38.937451, -119.939724], [45.290032, -122.948201], [34.956854, -118.16093], [27.388154, -82.463454], [34.024669, -117.750932], [35.22506, -80.86522], [31.976683, -87.617372], [38.865051, -77.35554499999998], [35.87602000000001, -78.54043], [34.13743, -117.32684], [40.266104, -75.91601], [39.477091, -74.527532], [45.035851, -92.99714], [47.518558, -114.029323], [25.883868, -80.122422], [47.544912, -92.555319], [41.67484, -88.06745], [32.93483, -96.75197], [40.70097, -73.99471], [39.10974, -76.78403], [34.1365, -117.50261], [42.038004, -73.989554], [30.324712, -81.517847], [40.85468, -73.91859000000002], [28.537035, -81.527627], [34.205546000000005, -119.069684], [32.91901, -97.01535], [25.733202, -80.334764], [33.050112, -117.287394], [34.121559000000005, -117.696732], [25.81245, -80.21472], [40.69654, -112.03237], [42.92534000000001, -85.682], [41.81846, -71.43815], [33.569097, -79.033118], [45.345554, -121.952943], [38.76093, -77.083927], [40.526622, -74.27074300000002], [42.96217100000001, -73.79117], [32.30216, -90.166796], [30.197186, -93.249434], [42.772039, -74.073697], [25.68887, -80.35042800000002], [39.907704, -74.980049], [28.604769, -81.30631], [25.56651, -80.36314], [37.360827, -122.080078], [29.685883, -95.277919], [27.338943, -82.529296], [42.308317, -122.84561200000002], [29.687132, -95.557447], [35.81831, -78.60829], [34.24407, -84.900432], [35.29095, -118.749064], [45.69523, -121.34187], [28.20867800000001, -82.66624499999998], [38.588917, -121.415472], [35.23925999999999, -80.96755], [33.185989, -80.57309000000002], [32.766371, -96.914662], [45.667532, -122.480743], [33.257765, -117.237303], [27.298799, -82.498568], [25.811432, -80.195255], [32.699721999999994, -117.094699], [45.521024, -122.665754], [47.48476, -122.2695], [44.947535, -93.07961], [30.287111, -81.515357], [40.69155, -112.2637], [34.042497, -117.396369], [28.604781, -81.42081999999998], [30.314787, -81.787646], [34.036011, -118.28488], [34.06888, -117.86205], [38.774217, -120.284768], [35.22441, -80.84948], [33.856618, -81.07859499999998], [32.893312, -80.018488], [34.826525, -82.292969], [25.811508, -80.198596], [35.20634000000001, -85.153716], [34.561831, -92.61154], [33.989156, -118.28594], [42.07839, -88.02901999999996], [39.803561, -123.543789], [33.956691, -81.092759], [34.030526, -117.655302], [47.274329, -122.557804], [34.33848, -118.50775], [43.012165, -83.517395], [40.089821, -76.520839], [33.45774, -112.34631], [39.207349, -120.79013700000002], [25.945405, -80.14745500000002], [33.20163, -117.37633], [38.495963, -121.419513], [36.33110900000001, -119.27872], [35.37675, -80.78541], [43.191173, -77.683092], [39.7802, -104.93225], [41.608196, -87.681852], [34.071914, -117.894166], [33.903419, -117.647433], [27.44603, -82.45955], [27.528443, -81.809344], [34.949001, -110.302487], [38.804245, -90.780389], [39.745434, -78.755246], [35.223401, -80.62908], [27.535352000000003, -82.420775], [34.072038, -117.907502], [33.189954, -117.361829], [38.296728, -120.70723999999998], [28.577659000000004, -81.496785], [40.847758, -74.352561], [34.06825, -117.39152], [25.926024, -80.150675], [43.105512, -83.656865], [33.954031, -118.043748], [41.333173, -122.332988], [35.784283, -78.700186], [26.67838, -80.06952], [38.655939, -121.533355], [25.685992, -80.393883], [38.474298, -121.419046], [43.097318, -73.752201], [38.28436, -85.828059], [30.335294, -95.478973], [33.057342, -117.070955], [32.766991, -117.147914], [36.31816, -119.39719], [34.538276, -80.002166], [40.158176, -76.40510400000002], [34.843283, -118.167039], [25.685754, -80.40074399999997], [34.0099, -117.823332], [40.429916, -79.88443199999998], [40.850574, -73.946809], [33.861686, -98.540731], [28.595921, -81.307105], [29.623297, -95.460925], [38.950298, -121.099927], [45.186959, -122.844334], [35.788635, -78.652374], [39.203096, -76.75569399999998], [33.989113, -118.291457], [34.133287, -119.098373], [40.736072, -73.587976], [39.95652800000001, -75.912227], [25.700068, -80.41257399999998], [35.223471999999994, -80.84853199999998], [29.962609000000004, -90.062072], [33.99264, -86.00435], [39.87442, -75.71778], [25.702455, -80.332105], [37.768042, -121.19981], [28.54586500000001, -81.438696], [33.93698, -117.8925], [35.25771500000001, -120.668895], [45.569967, -122.161022], [39.00684, -76.98033000000002], [33.859702, -118.201378], [28.496817, -81.429926], [33.943753, -117.392164], [38.522472, -121.52158], [33.71715, -117.79135], [32.308248, -81.059736], [42.38245, -88.00419000000002], [33.806819, -118.15016], [41.17625, -83.64950999999998], [40.047397, -75.292624], [37.920636, -122.062281], [38.657412, -121.382926], [34.041001, -117.663387], [43.187693, -118.357254], [44.952968, -93.182475], [32.924994, -96.838444], [40.565248, -75.613188], [30.474944, -87.221194], [38.037175, -78.701652], [25.732962, -80.339038], [40.069679, -75.280088], [33.920449, -117.431842], [32.691297, -96.860887], [33.667956, -117.817844], [34.019755, -118.049715], [34.144207, -79.770673], [25.699599, -80.382101], [33.457688, -79.11413], [42.16729, -87.84576], [36.712145, -119.75596000000002], [40.74666, -73.73637], [33.518, -117.619946], [30.350916, -91.033387], [35.65937800000001, -118.01659], [38.929887, -111.868039], [35.08251, -89.94814699999998], [33.972891, -118.168033], [43.313807, -121.767201], [34.208438, -118.473215], [39.802, -75.45062], [47.22717100000001, -122.462788], [28.35743, -81.49542], [42.101811, -73.937827], [37.594745, -120.78302], [35.357512, -94.365187], [37.66743, -122.39515], [40.283271, -78.846141], [38.903282, -119.969587], [33.719313, -84.397048], [38.819113, -77.13104399999997], [35.744161, -78.648742], [34.113832, -81.195613], [35.203239, -80.723422], [33.91208, -118.15984], [33.450234, -117.096134], [44.791837, -122.626626], [40.029532, -76.791698], [34.217, -80.715338], [39.885439, -104.98767], [30.435913, -91.057498], [33.993373, -118.176242], [42.701537, -73.84872800000002], [34.726334, -80.82928000000003], [41.66729, -72.772954], [35.22403, -118.56759], [37.529673, -122.002206], [33.5893, -111.836289], [32.79415, -96.81478], [30.432755, -86.89733100000002], [32.925273, -96.798862], [42.785326, -71.2643], [36.920381, -76.286519], [27.825869, -82.665821], [38.527236, -121.33489], [37.540606, -77.532826], [37.015689, -122.034616], [28.546842, -81.20383299999997], [41.36327, -72.06141], [43.055093, -76.595197], [25.79319, -80.20551999999998], [44.483932, -124.081367], [29.78762, -95.33964], [26.997581, -82.19122], [40.08189, -74.937304], [43.148799, -77.640703], [28.334776, -82.204095], [26.34465800000001, -81.85105], [36.01025300000001, -119.965815], [40.12558, -111.65519], [40.65955, -74.28711], [35.27872199999999, -80.793533], [38.432943, -90.965594], [33.54333, -117.176603], [40.48017, -74.30154], [30.333586, -97.423778], [42.62838, -83.13164499999998], [34.0653, -117.80669], [34.488653, -81.88693], [33.924690000000005, -118.10399], [37.333611, -121.861477], [36.742562, -121.773909], [37.232551, -93.311235], [36.735727, -119.609988], [41.79115, -87.63089000000002], [30.663055, -87.848066], [33.98133, -118.460048], [33.93571, -117.29048], [26.714947, -81.80778199999997], [43.162353, -71.517776], [41.523705, -76.395358], [27.92265, -82.36873], [28.084627, -82.505275], [33.3857, -111.93489], [34.092091, -118.307203], [45.88338, -105.66527], [29.81106, -95.374319], [28.407447, -81.454468], [38.12916, -77.51255], [41.569669, -87.386276], [27.9555, -82.472539], [39.72777, -86.26464], [35.36863599999999, -118.968436], [41.68934, -91.768643], [39.630238, -84.199017], [37.89406, -77.458697], [43.338457, -122.765232], [35.292624, -84.813133], [40.063673, -77.063673], [36.752674, -82.744025], [35.823089, -78.622288], [40.89402000000001, -111.890753], [27.447751, -82.573305], [34.030054, -117.703045], [40.734392, -74.055657], [37.209831, -77.403667], [40.907802, -123.718786], [40.59935, -118.25211000000002], [34.721637, -81.201515], [39.03884, -94.67514], [47.820746, -122.207459], [41.26527, -73.68486], [37.55288, -77.44373], [29.707346, -95.484613], [41.26295, -95.93796], [36.23822, -86.7832], [41.325514, -72.250073], [35.74292, -78.6812], [33.415264, -117.158203], [40.06373, -75.32651], [37.695155, -122.083259], [40.034919, -75.583523], [32.759159000000004, -96.982809], [35.26485800000001, -80.875757], [39.012415, -77.150046], [39.94487700000001, -77.18004], [41.51875, -81.673969], [42.195428, -121.796654], [34.583748, -118.35679], [43.14447, -87.91519], [35.01755900000001, -81.981103], [46.156893, -123.906307], [30.266009000000004, -97.734594], [29.943851, -90.031514], [41.887941, -87.91850699999998], [33.963913, -117.324977], [33.997963, -117.935613], [25.769076, -80.348688], [38.683023, -121.33652], [27.536298, -80.613716], [37.517128, -122.259878], [40.84754, -74.02009], [33.774145000000004, -118.105672], [29.785190000000004, -95.77402], [42.18496, -121.69807], [34.041224, -118.059549], [36.743626, -119.809869], [38.890425, -76.957559], [41.041671, -76.87119799999998], [45.51486, -122.70066], [47.548514, -122.671229], [33.50951, -112.1688], [38.874187, -76.977243], [33.678452, -117.84698], [32.819790000000005, -96.92123], [41.2045, -95.94905], [39.70499, -105.19959], [38.530694, -121.954926], [44.972008, -117.87947], [34.03438, -118.349949], [41.401624, -73.46649599999998], [37.769673, -122.424623], [43.067347, -123.351172], [25.629035, -80.38179699999998], [33.92965, -118.256747], [35.888088, -78.84505899999998], [41.80817, -88.07918599999998], [35.2674, -119.254829], [34.118519, -118.165416], [37.666015, -121.03143500000002], [33.903393, -118.105177], [38.9456, -94.36526], [39.338772, -119.806824], [37.60877, -122.06828], [35.382411, -119.04434], [29.48937, -98.40215], [34.365011, -118.503466], [34.310092, -119.292139], [26.13501, -80.16923], [44.894806, -93.193346], [41.4673, -81.76385], [38.865037, -77.269952], [37.159049, -118.281996], [37.627841, -79.574908], [45.442956, -122.57895], [36.602781, -76.933861], [37.953268, -121.270657], [33.587181, -117.733278], [40.054296, -86.591135], [36.0482, -78.631137], [36.523513, -121.463673], [25.854356, -80.323012], [42.9955, -85.66461], [40.616684, -122.428266], [36.830374, -76.19551], [34.074166, -117.396462], [30.40727, -97.672008], [36.11879, -95.95816], [45.481199, -122.578965], [35.714081, -78.84003100000002], [30.451479, -91.116936], [34.152583, -118.448689], [34.07274, -117.78324], [34.824379, -82.141137], [42.70169, -73.83471999999998], [28.507955, -82.521403], [25.685194, -80.418423], [25.91106, -80.22974599999998], [38.529107, -77.575189], [25.936664, -80.188553], [30.38919000000001, -91.076552], [41.763224, -72.633511], [28.610297, -81.4284], [32.570370000000004, -93.20122], [41.639614, -93.62005], [40.722326, -76.376138], [44.47186, -93.039442], [28.466588, -81.37603100000003], [34.035354, -118.328901], [27.950989, -82.514158], [36.306005, -86.70625799999998], [42.028156, -88.28274], [34.564041, -92.604247], [41.596415, -93.599052], [39.892977, -75.22651], [41.27631, -95.786758], [37.119315, -109.54486], [39.717217, -86.12469], [35.163649, -80.876024], [37.488666, -86.208096], [39.1397, -84.53469], [33.411394, -86.664699], [41.599556, -77.29741], [25.747968, -80.306001], [42.132989, -122.633829], [29.698409, -95.471994], [28.56786, -81.375574], [25.626145, -80.41645], [41.882162, -87.617329], [34.152397, -118.375259], [42.35633, -83.05122], [36.734471, -121.637275], [43.672317, -92.86918], [25.80702, -80.20572], [29.995712, -90.115989], [34.06389, -117.81483], [34.191604, -79.19030699999998], [39.79794, -104.98667], [33.728390000000005, -117.291387], [43.796079, -89.4828], [42.756908, -73.611482], [42.672104, -123.380867], [34.085614, -117.689069], [33.811412, -118.158363], [43.06567, -70.79189000000002], [40.628712, -74.184004], [33.61125, -111.92571], [39.24089, -76.59291999999998], [41.91307000000001, -87.62720999999998], [44.10931, -121.29516], [41.81663, -87.92565], [30.422474, -91.135599], [32.56583, -117.07368], [37.466231, -120.829912], [33.356485, -117.111433], [37.316865, -121.950199], [34.37419000000001, -118.49778899999998], [34.17711, -117.153784], [41.571359, -72.652289], [41.343234, -75.327389], [33.74129, -111.8912], [27.84679, -82.34728], [42.979893, -76.798568], [41.770727, -72.677953], [40.692983, -77.100988], [34.02243, -118.42644], [32.487876, -93.773032], [39.824784, -76.683872], [32.67827, -96.68083], [30.65846, -87.936753], [32.94851, -96.7362], [35.22662800000001, -80.747366], [32.738596, -96.758299], [27.937937, -82.243421], [25.57255, -80.364714], [42.31127, -71.07003], [28.04484, -82.025439], [35.164055, -80.87603], [27.90258900000001, -82.401742], [45.58925, -93.94893], [35.026084000000004, -120.48817], [36.984342, -76.302212], [38.581537, -121.406118], [39.19355, -77.26032], [29.094196000000004, -82.001982], [41.96086, -87.73700000000002], [45.579845, -122.968043], [39.013379, -77.045027], [32.357335, -111.038277], [25.617889, -80.446224], [35.36468, -119.04012], [29.683011, -95.574592], [42.849911, -78.79048], [32.669041, -96.71248], [29.77766, -95.41073], [34.485502000000004, -82.643934], [34.159659000000005, -118.465019], [43.120815, -77.805791], [28.333040000000004, -81.47952], [27.756435, -82.404259], [33.672270000000005, -80.89782], [47.610748, -122.347602], [25.94739, -80.149336], [38.569127, -121.512652], [40.815335, -73.930596], [40.80928400000001, -73.93480100000002], [35.40493400000001, -119.035705], [35.37155900000001, -82.401577], [37.541774, -77.390173], [32.2395, -110.97184], [34.050053000000005, -118.693467], [39.83019, -75.430187], [33.743376, -117.106854], [43.099774, -77.534278], [32.93987, -96.7461], [33.77426, -118.08377], [34.043642, -117.800924], [40.247862, -76.472224], [29.91089, -95.41263], [41.58146, -73.05213], [45.08082, -93.44687], [34.03474, -118.36901], [30.440028, -91.207019], [39.742301, -86.04051199999998], [35.293418, -78.60306800000002], [35.86417, -78.81910400000002], [34.169146000000005, -118.097093], [40.682706, -95.908652], [38.064376, -122.535914], [37.967519, -78.617363], [42.27616, -122.81006], [39.823969, -86.20588599999998], [35.102134, -90.076063], [34.048783, -81.071128], [33.859157, -118.289422], [40.193397, -77.164415], [41.411494, -73.45209], [25.685165, -80.419593], [36.137804, -119.457169], [38.611868, -122.596616], [28.451122, -81.35387800000002], [37.143716, -121.984761], [39.605466, -77.802933], [38.493284, -122.752033], [30.160035, -97.684275], [37.602997, -77.457571], [28.381167, -81.425351], [34.024053, -117.335455], [34.629195, -120.27818], [36.6214, -121.64479], [36.258654, -86.757848], [37.754067, -121.453417], [34.064384999999994, -117.27863700000002], [37.586008, -77.469961], [39.264653, -81.499961], [38.27214, -122.09262], [32.72775, -117.104585], [34.132233, -81.278334], [33.868, -84.28513000000002], [41.077768, -73.984289], [34.03089, -118.19426], [33.977956, -81.192277], [26.226734000000004, -80.136298], [33.928236, -118.27388899999998], [29.43936, -98.47914], [40.84236, -73.41204], [34.054081, -118.255459], [33.3872, -111.960807], [38.28391, -90.40322], [44.90222, -124.00722], [37.842289, -77.451521], [30.405113, -87.34239000000002], [34.154405, -118.384235], [34.156923, -118.448697], [30.408748, -87.29096], [34.459079, -112.524008], [47.30271, -122.2559], [42.18265, -87.95546], [35.616468, -118.470131], [39.76824000000001, -104.99434], [46.854232, -92.301753], [36.262558, -86.707498], [38.17308, -121.262401], [38.320355, -77.503496], [37.295376, -120.324829], [33.862152, -118.041894], [38.069505, -122.227601], [29.736017, -95.571699], [25.74814, -80.3116], [37.441703, -121.889973], [44.97257000000001, -93.29446], [45.50443, -122.56597], [28.07869, -82.45119], [34.284167, -119.319722], [42.083633, -73.973324], [29.580601, -95.178044], [36.16076, -86.79363000000002], [33.973409000000004, -118.080372], [27.747698, -82.33518000000002], [33.873572, -118.216817], [45.757905, -111.163995], [39.305705, -120.646286], [33.17282, -87.45268399999998], [40.47958, -111.90258], [33.628421, -117.72088], [36.14011, -86.7233], [35.573505, -85.154675], [38.92039000000001, -75.93502], [29.78527, -95.70601], [29.955890000000004, -95.41851], [25.768991, -80.320605], [33.459314, -112.767433], [37.598788, -122.060851], [34.17575, -118.85401], [45.490682, -123.645068], [43.12143, -87.91731999999998], [34.745047, -92.334341], [33.68381, -111.92535], [40.142242, -75.3898], [36.472085, -79.73461800000003], [34.054267, -118.004184], [45.6128, -122.67823], [32.86821, -96.66777], [37.761588, -122.214684], [29.010749, -82.564494], [47.234068, -122.250959], [38.061005, -122.22518], [38.827632, -111.962378], [45.295684, -122.656645], [39.530261, -106.216025], [44.9035, -89.64511], [28.7034, -81.29138], [37.48193, -122.17735], [33.73072, -117.98667], [29.396091, -82.07594], [37.582295, -122.049568], [37.763641, -122.40498999999998], [37.611952, -77.446975], [34.020212, -117.814998], [39.65299, -104.95945], [40.76444, -111.971491], [34.031808000000005, -118.187978], [44.8897, -93.3502], [38.289643, -77.194604], [45.511668, -122.667192], [44.964894, -93.250854], [37.8986, -122.07079], [44.673382, -93.294149], [33.958227, -118.247297], [40.72468, -112.0249], [34.029518, -118.432284], [25.924321, -80.122282], [38.80185, -77.51633000000002], [45.830846, -119.280431], [39.220088, -121.055883], [27.223782, -81.884407], [25.943289, -80.187857], [38.858286, -77.84858], [35.202029, -111.456373], [35.75217, -78.56565], [33.975108, -118.384369], [27.337756, -82.465216], [39.046729, -94.650673], [42.79296, -73.76301], [38.40139, -82.482401], [47.589838, -122.262444], [35.529369, -97.51412], [42.059999, -122.60773], [29.39558, -94.98552], [44.891523, -93.295091], [32.73818, -117.11468], [40.905951, -111.917971], [45.161097, -122.544003], [34.100396999999994, -117.538816], [34.153703, -118.286385], [37.33824600000001, -121.853965], [37.222129, -76.611901], [25.847022, -80.21006899999998], [25.896576, -80.261993], [28.565166, -81.207339], [27.967893, -82.74708100000002], [34.044973, -118.215752], [41.26364, -73.68406999999998], [34.04486, -118.184667], [45.427705, -122.601274], [32.789377, -96.802994], [39.681318, -105.898729], [42.02857, -91.6583], [37.486563, -77.143088], [33.913940000000004, -84.47998], [34.645722, -118.154686], [44.803753, -124.06135], [28.566762, -81.286012], [41.577782, -87.576092], [37.128079, -121.030623], [36.184518, -86.798226], [28.474201, -81.396745], [38.492327, -78.98070200000002], [39.321505, -120.604813], [33.97065, -118.233937], [30.727654, -86.21180799999998], [32.404709999999994, -90.14596], [33.992217, -118.374116], [35.337857, -80.757553], [33.994039, -117.904198], [28.567106, -81.293266], [35.015213, -85.163684], [34.02202, -117.3371], [37.668957, -122.109386], [25.890213, -80.187688], [30.480945, -87.232698], [37.842598, -122.297583], [33.558753, -112.113775], [28.952676, -81.25867], [37.80932, -122.27549], [25.706561, -80.285439], [39.33806, -77.642709], [33.22788, -87.53299], [33.876957, -118.181556], [33.928569, -117.420743], [37.890669, -121.488416], [33.926414, -117.656632], [41.68807, -87.60059], [34.01704, -117.341548], [41.76943, -72.66351], [33.778292, -117.897368], [40.81184, -74.44668], [33.684696, -80.29611899999998], [40.7245, -111.54469], [25.733215, -80.322203], [37.03161, -76.37163000000002], [28.334477000000003, -81.489633], [41.428553, -73.57722], [33.940690000000004, -117.26764], [38.75232000000001, -76.969792], [33.89886, -118.37022], [44.153751, -86.279898], [34.07184, -118.120605], [37.443884, -79.076145], [34.063158, -117.396402], [40.72433, -111.90463], [39.93292, -74.96889], [37.771852, -122.423304], [45.561536, -107.449496], [32.238486, -110.841196], [35.014358, -82.28546999999998], [38.896126, -77.03196899999998], [26.653061, -80.069224], [38.583016, -121.503223], [36.815947, -80.85342], [26.203691, -80.143984], [27.88522, -82.51843000000002], [47.048899, -106.614695], [32.83332, -96.87462], [45.62662, -92.9921], [28.640424, -81.422327], [37.867475, -121.639217], [42.463843, -79.29844], [45.52455, -122.56518], [34.201239, -118.403727], [38.562165, -122.774862], [41.446191, -72.78879], [33.974039000000005, -118.080118], [33.883331, -118.104068], [36.059392, -84.006527], [43.210775, -121.780494], [35.772881, -78.638501], [38.906563, -76.93923199999998], [47.573078, -122.329181], [32.758902, -96.917535], [30.777692, -86.562039], [29.427942, -98.602691], [42.347876, -87.892185], [33.970795, -118.281005], [45.81892, -119.26421], [30.46655800000001, -84.268383], [40.7259, -112.018663], [39.8304, -75.08816], [40.335514, -75.461912], [33.744591, -117.833566], [33.904385999999995, -84.276802], [27.99611, -82.3934], [32.894943, -97.317076], [34.13627, -117.42798], [43.010437, -83.679422], [44.808057, -93.398072], [38.819085, -76.914542], [40.830659, -74.329577], [37.694145, -77.449547], [34.667888, -83.072257], [34.13103, -80.771484], [33.704516, -117.953243], [39.661355, -76.449828], [38.525388, -90.473429], [34.065957, -79.730979], [25.705014, -80.334372], [30.337854, -81.668876], [39.367505, -74.585115], [32.89987, -96.769443], [46.701003, -113.495775], [45.172774, -93.863212], [33.02028, -117.10156299999998], [34.067423, -117.435816], [33.514084999999994, -81.46659100000002], [39.46418900000001, -77.401544], [45.00225, -93.23516], [30.513991, -91.148055], [33.934824, -117.404055], [40.259437, -76.775285], [40.84271500000001, -76.35975400000002], [34.272875, -118.044782], [33.482867, -86.823173], [47.551456, -122.316874], [33.982607, -117.342294], [36.75375, -119.727303], [35.61138, -120.400336], [35.46028, -97.58323], [41.241098, -111.945437], [34.034859999999995, -117.76162], [41.10552, -73.42583], [45.431503, -122.758129], [35.81787199999999, -78.689332], [29.942561, -90.073782], [32.68495, -96.601772], [35.442297, -80.86841], [33.853120000000004, -118.28041], [37.70171, -121.76941], [32.87835, -96.68734], [42.982624, -85.59033000000002], [34.03795, -117.859651], [40.851839, -124.162766], [37.63404, -122.10569], [44.86461, -123.00737], [25.799502, -80.20537900000002], [32.644481, -96.82435], [39.498199, -77.954789], [38.790397, -77.167816], [33.879207, -118.285192], [28.119, -82.73983299999998], [34.005096, -117.393396], [28.540177000000003, -81.386969], [34.581309999999995, -118.13388], [30.507126, -91.137171], [43.101173, -83.69423], [42.490986, -83.071135], [33.474940000000004, -112.11297], [37.423095, -121.924729], [34.0491, -118.26414], [33.33459000000001, -87.03625500000004], [35.21215, -80.829], [36.652244, -121.6613], [33.848483, -117.534193], [45.57289, -93.29963], [38.37297, -121.35875], [43.035939, -77.812729], [32.679593, -117.109921], [45.35444, -122.623068], [33.813371000000004, -79.034071], [27.388340000000003, -82.459159], [42.900867, -83.63052900000002], [38.90163, -76.94294000000002], [39.093006, -94.590786], [42.041664, -111.813971], [40.761693, -74.514236], [32.327731, -86.334721], [34.179271, -117.439867], [41.189721, -74.181309], [42.12318, -75.97116], [29.822952, -82.58728], [25.698947, -80.442661], [34.0715, -118.05053], [33.08597, -96.682844], [37.971725, -121.241122], [31.75608, -106.2741], [38.945395, -76.858135], [36.15766, -86.77098000000002], [32.758491, -96.864222], [25.670686, -80.383957], [27.398413, -82.451311], [33.246377, -84.02060999999998], [34.0304, -117.623299], [37.710968, -120.893973], [29.729355, -95.501107], [32.89581, -80.0189], [26.139034, -81.714791], [38.79479, -77.17201999999997], [33.461647, -112.143712], [38.49291, -121.44275], [42.9298, -85.68154], [30.247776, -97.769738], [32.898677, -96.715017], [45.46561, -122.69526], [38.32382, -121.326473], [35.573008, -120.606752], [42.260501, -121.805716], [36.602207, -119.65756], [33.908497, -81.218379], [29.966642, -90.088741], [41.750761, -72.657984], [28.533732, -81.28563299999998], [34.139667, -80.917701], [41.743994, -73.930914], [34.067478, -117.592127], [40.699571, -73.986192], [33.961982, -118.256403], [38.825259, -77.159803], [37.556235, -77.447971], [28.486998, -81.416443], [28.057971, -82.711939], [28.451003000000004, -81.35939300000003], [38.840736, -76.872206], [37.443541, -122.117232], [35.66996, -78.25258000000002], [40.46632, -111.91225], [39.10642, -94.82031], [38.961693, -94.775565], [25.564267, -80.396846], [43.907093, -123.01923], [44.933075, -123.029098], [33.567351, -117.180954], [44.8927, -93.183127], [48.45456, -122.58278], [38.86726, -77.31728000000003], [36.780573, -76.09917800000002], [32.675949, -97.030049], [35.21773, -80.81459], [33.480393, -111.891406], [40.41761500000001, -86.59481099999998], [37.89842, -122.309554], [44.970914, -93.448945], [43.18383, -77.60818], [38.545641, -121.726107], [33.982277, -118.14155], [44.98453, -93.349], [40.38707, -75.46888], [28.609407, -81.415767], [38.610875, -121.414202], [37.296206, -80.088771], [47.241286, -122.38841399999998], [39.696126, -121.851171], [28.45071, -81.33832], [34.037028, -118.377485], [39.274341, -77.503814], [45.54108, -122.86512], [34.239219, -117.275772], [38.513105, -121.46456299999998], [40.74763, -73.848838], [40.86606, -73.97484], [32.781625, -96.786471], [40.20158, -74.63124], [43.19751, -77.58471999999998], [32.705081, -117.095251], [33.482079, -112.178692], [32.754402, -117.072868], [38.704228, -120.678278], [40.683776, -78.04042199999998], [40.040947, -75.389578], [44.72777, -93.282426], [38.482221, -81.450501], [44.625767, -123.062249], [34.749643, -82.067537], [41.767789, -72.618542], [34.49816, -117.73836], [34.136284, -117.574354], [46.95528, -92.4548], [41.77822000000001, -87.6301], [34.55485, -118.13202], [25.81201, -80.23484], [40.161104, -122.256159], [25.453285, -80.489388], [39.20498, -76.62293299999997], [31.738755, -106.266715], [34.03063, -81.104196], [32.720042, -111.511103], [36.845512, -76.24865], [37.326197, -121.883451], [45.546929, -122.678472], [27.062083, -82.41629], [38.572133, -121.413204], [34.098064, -118.31462], [34.263085, -118.440916], [30.415503, -91.072981], [37.60226, -122.06362], [35.1575, -80.74935], [35.149035999999995, -80.832892], [28.494544, -81.39556], [34.67468, -83.428393], [32.708029, -96.785271], [40.81193, -74.4466], [34.861023, -82.26165], [37.963493, -120.449985], [38.94403300000001, -76.79809200000003], [47.03605, -122.87898], [35.3352, -80.82500999999998], [33.944844, -118.099155], [37.274261, -77.33009200000002], [38.27015, -122.66763], [34.324194, -119.394855], [25.689709, -80.365922], [38.710397, -123.449254], [37.59674, -77.46595], [44.724738, -94.366011], [30.114292, -97.806135], [36.081657, -86.936989], [28.597661, -81.209436], [34.23913, -118.47313], [37.708523, -122.163949], [39.11655, -94.56451], [40.01578, -75.22936], [33.98526, -117.843167], [38.29029, -121.44132], [39.370075, -76.51405600000002], [37.82466, -122.31235], [40.79675, -111.94919], [33.844039, -80.372629], [42.175538, -121.638232], [44.614063, -112.50295], [32.619062, -117.092102], [36.066493, -86.681397], [37.80811, -122.36719], [35.001546999999995, -85.29096899999998], [33.49374, -112.42682], [42.42678, -83.2191], [37.34576, -120.61257], [34.07282, -117.54507], [35.47078, -119.26093], [28.293131, -81.36470200000002], [32.71716, -117.11801], [28.357732, -81.489946], [28.067566, -81.993623], [33.854496000000005, -117.798483], [45.226367, -123.183101], [33.89112, -118.36132], [33.9857, -118.39736], [37.98672, -122.314041], [38.55471, -121.40438], [33.984390000000005, -118.1333], [38.79304000000001, -77.02301999999997], [45.168916, -93.874018], [27.183747, -82.48436600000002], [45.695968, -109.376591], [37.25968, -79.74395200000002], [38.667923, -121.262174], [38.839731, -77.431414], [34.534313, -82.667929], [38.57561, -121.57537], [28.290385, -82.675763], [34.034784, -118.17356], [34.634882, -82.78462900000002], [33.02766, -117.078618], [32.408396, -80.755434], [36.128001, -95.832117], [35.202543, -80.760545], [47.163878, -122.48283], [26.15146, -80.33836], [36.096978, -86.76336500000002], [35.39233, -97.66567], [28.152, -82.71666], [40.391433, -122.17835], [34.054262, -118.004172], [43.286062, -122.470977], [27.909197, -82.77886099999998], [33.788585999999995, -118.096573], [29.777437, -95.409637], [31.305462, -85.73689300000002], [33.609790000000004, -84.39609], [29.818276, -95.483246], [46.542734, -94.659198], [33.85738, -81.3267], [40.196769, -74.75245699999998], [39.243188, -94.506545], [42.19714000000001, -87.98939], [39.058522, -76.926146], [35.78488400000001, -78.703168], [32.868756, -117.229669], [35.019475, -85.267122], [30.329336, -97.690103], [41.809558, -88.076413], [25.743803, -80.319624], [39.395579, -86.457138], [32.532512, -83.59349], [41.29216, -72.92071999999997], [30.321246, -81.701277], [34.691294, -120.159277], [30.366733, -97.56681], [42.34106, -87.96363000000002], [37.55922, -77.47505], [28.191658, -82.379661], [26.70206, -80.07269000000002], [35.106484, -106.609917], [27.996683, -82.56886300000002], [38.042628, -121.258169], [43.094631, -75.21263499999998], [30.399324, -96.08948], [36.980317, -121.557609], [37.80725200000001, -122.475337], [29.77735, -95.2754], [38.872343, -76.990138], [39.20843, -77.16928], [34.068869, -117.839455], [37.45720900000001, -122.288872], [38.113125, -122.106079], [34.30615, -110.950595], [32.929952, -96.803463], [42.91310900000001, -78.69690600000001], [42.234386, -75.91494300000002], [38.352387, -122.77151299999998], [28.603092, -81.311276], [44.97726, -122.99123], [30.176192, -97.637362], [30.402678, -91.104864], [38.104441, -121.260316], [33.437559, -111.943251], [41.410389, -72.61138199999998], [34.152092, -118.126836], [39.792304, -85.5867], [30.576221000000004, -87.293149], [25.920771, -80.210312], [35.772933, -78.63995], [28.400234, -81.244405], [39.704305, -86.104281], [33.57855, -84.3503], [30.042146, -95.254565], [36.269422, -119.313391], [37.769067, -122.409477], [41.115292, -74.108136], [43.87434, -94.42914], [40.805042, -73.911301], [29.554016, -98.666607], [33.90365300000001, -118.190401], [40.840872, -73.83846], [28.534556, -81.47570999999998], [33.74005, -117.7976], [37.70610900000001, -121.077539], [40.834625, -74.17963], [42.791265, -112.239901], [35.213853, -111.538277], [34.933370000000004, -81.99298], [25.75594, -80.32023000000002], [38.756447, -112.56418700000002], [34.069779, -118.236165], [37.849091, -122.23012], [33.549240000000005, -84.60474], [30.18303, -99.30128], [25.897641, -80.227393], [41.4476, -78.4675], [37.596108, -77.485954], [34.067636, -117.981714], [33.444975, -80.40085], [45.479893, -122.678974], [37.115224, -121.015591], [25.689146, -80.38287199999998], [38.793271, -77.050186], [39.641343, -75.80179], [27.775966, -82.334898], [38.57259000000001, -121.517145], [33.92038400000001, -84.32076500000002], [42.390779, -122.411609], [29.327391, -98.420848], [32.875524, -96.897918], [40.148452, -76.441572], [36.822799, -119.818862], [30.639682, -87.177346], [30.459948, -81.67748], [35.224865, -81.774162], [26.17279, -80.21985699999998], [39.79578, -74.23659], [32.271614, -111.011195], [29.987514, -90.052483], [44.009159, -123.761633], [34.128746, -117.938159], [41.87543, -87.67274], [33.901053999999995, -118.361278], [38.979556, -121.375887], [38.886685, -77.412284], [39.89874, -75.18044], [35.35015, -118.880403], [25.671261, -80.40016999999997], [42.912629, -85.615932], [38.542713, -121.732582], [25.761743, -80.34162099999998], [39.130305, -121.553512], [38.802691, -77.608977], [38.770576, -76.99543100000002], [44.267143, -121.174282], [40.8562, -73.87232], [30.308136, -81.646314], [40.74158, -111.8997], [38.65227, -77.25628], [35.295967, -118.948304], [27.354854, -81.388865], [28.7861, -81.350466], [36.775604, -119.842334], [37.458304, -122.13738], [44.973172, -93.400624], [45.372839, -122.739259], [34.068881, -118.042177], [33.780424, -117.878455], [39.65882, -110.86071], [36.928181, -121.389674], [47.557419, -122.339029], [36.07728, -78.76953], [33.972782, -117.332166], [41.97262, -87.74750999999998], [38.879807, -77.268026], [32.979156, -80.077038], [32.752468, -96.682947], [33.42888, -112.0825], [25.96312, -80.22946], [46.837049, -100.86958], [43.24996, -89.72136], [33.961209999999994, -118.24442], [43.939443, -117.363542], [33.953448, -118.089652], [39.779204, -104.92580900000002], [37.817326, -109.044947], [43.931869, -91.938303], [39.152597, -76.644583], [33.989156, -118.281673], [38.915, -76.54974], [33.564208, -117.672404], [39.553281, -74.73680300000002], [27.050146, -82.408734], [26.286927, -80.124596], [34.038599, -118.191375], [35.025994, -85.192625], [33.088896000000005, -96.681984], [34.128658, -117.991372], [39.16245, -94.53257], [28.054261, -81.954239], [39.87429, -75.10209], [40.568966, -75.53054399999998], [36.045719, -86.72079699999998], [34.56683, -118.68615], [39.6589, -83.95213000000003], [45.980733, -94.339975], [40.84211, -73.931523], [30.424509000000004, -91.104676], [33.322835999999995, -111.687056], [38.44618, -81.84493499999998], [33.730212, -117.985993], [30.545534000000004, -87.763564], [34.145603, -117.310028], [25.887962, -80.21885999999998], [35.85093300000001, -78.62101], [37.046857, -122.063646], [37.965713, -122.319901], [25.869775, -80.209942], [33.394852, -117.594057], [36.903408, -76.239935], [40.748697, -74.16871400000002], [40.69632, -112.02486], [46.953752, -114.135567], [27.949990000000003, -82.39752], [40.628911, -74.183818], [45.59852, -122.55072], [34.669793, -92.265061], [33.141945, -117.187022], [45.662194, -108.80236], [41.09747, -115.1164], [44.255794, -94.165223], [25.928598, -80.189673], [34.173649, -118.390978], [38.736728, -77.676764], [28.552197, -81.47246899999998], [38.117674, -122.288276], [35.996457, -83.69387900000002], [33.7182, -84.23985], [41.437071, -96.125875], [43.090196, -83.694162], [27.691298, -82.416404], [38.661693, -121.35908899999998], [34.011897, -117.918847], [42.40517, -83.42478], [44.06371, -123.04941], [37.797592, -121.166034], [37.647677, -122.095789], [37.600688, -122.062228], [33.383406, -117.17441399999998], [32.72723, -117.155851], [30.362251, -83.219879], [34.06842, -117.97419], [34.04674, -118.2148], [41.28503, -96.018037], [39.00612, -77.03899], [47.696317, -122.344576], [45.513901, -122.68931], [34.158748, -117.902907], [33.92687, -118.10373], [27.743192, -80.929895], [38.348497, -119.452296], [33.902281, -118.105103], [38.864422, -77.079725], [28.452939, -81.400159], [41.842857, -91.66592], [37.72161, -122.17944], [42.47015, -83.43125], [38.586841, -121.383117], [42.164993, -88.155662], [40.837801, -76.83217900000002], [35.863689, -78.71361999999998], [41.309788, -72.91465], [26.083798, -80.196074], [32.84659, -96.637209], [34.15567, -118.29732], [41.04457, -83.67282], [32.85027, -79.98746], [29.853741, -95.37992], [34.408525, -92.810171], [25.84071, -80.313281], [42.39197, -87.85528000000002], [44.052691, -123.306104], [40.04868, -80.69051], [30.46964, -84.23091], [38.77207, -121.24548], [33.916432, -118.269085], [39.09169, -94.62929], [32.223153, -110.823833], [25.810711, -80.337487], [34.05625, -118.183107], [33.812793, -118.298211], [30.166302, -97.692425], [42.42849, -87.88625], [41.424958, -78.738576], [29.871103, -95.397871], [37.73279, -120.995231], [44.881842, -93.412491], [40.98585900000001, -78.172262], [30.471474, -91.093792], [28.387276, -81.403577], [41.17644, -80.56087], [43.454672, -73.364006], [39.306228, -120.678758], [34.063839, -117.811951], [33.807216, -117.832027], [37.396568, -121.874558], [29.864243, -95.404917], [33.549357, -84.569542], [33.790409999999994, -118.09935], [38.146082, -77.505769], [38.223776, -121.29082], [37.667065, -122.395194], [35.28063, -80.765408], [38.373526, -121.952407], [43.789593, -117.702816], [44.89233, -122.99169], [39.179318, -78.075439], [44.926968, -93.144482], [41.526086, -90.513724], [38.95833, -76.091916], [26.264694, -80.129696], [41.429266, -73.313334], [40.19282000000001, -74.881585], [36.683147, -79.012777], [47.603654, -122.329227], [44.89143, -93.44354], [40.858196, -76.766634], [25.782687, -80.32697399999998], [34.221703000000005, -118.410216], [41.4645, -81.51687], [43.439222, -123.315321], [28.552931, -81.412013], [41.376968, -88.563419], [27.58251, -82.5404], [25.893911, -80.32444], [40.84005, -73.92905999999998], [38.178324, -120.923817], [37.719894, -121.659209], [35.32529, -80.86683000000002], [41.61959, -73.780027], [44.47171, -93.09244], [32.717763, -117.089316], [34.08132, -112.14175], [33.84915, -117.85099], [28.437533, -81.40436], [39.868022, -75.136143], [29.673111, -82.33914200000002], [39.097588, -94.599483], [42.6288, -73.70300999999998], [36.0064, -83.823797], [39.098508, -77.53394499999997], [28.451531, -81.400598], [40.69914, -74.2532], [25.748356, -80.335763], [32.924452, -96.765774], [33.981995, -118.24281299999998], [46.659113, -92.349016], [28.381197, -81.501075], [38.845671, -77.43626400000002], [39.8449, -111.00047], [42.992262, -77.645149], [39.57387, -76.18053], [26.05925, -80.21526899999998], [44.516155, -95.898611], [33.851794, -117.28765], [39.86127000000001, -75.0999], [34.945190000000004, -118.93243], [30.475291, -97.810796], [43.65927, -93.72172], [30.599253000000004, -87.006895], [32.671067, -97.207031], [34.067384000000004, -117.567625], [30.518053, -91.146611], [30.539706, -91.071408], [44.85942100000001, -93.357972], [28.550567, -81.41385], [34.02225, -118.277143], [34.081894, -117.704564], [33.976298, -117.54867], [32.716287, -117.10282], [32.659692, -117.091555], [41.90561, -87.66119], [35.065088, -80.76100500000003], [38.067268, -122.225906], [33.831583, -118.293593], [44.97121, -93.37512], [41.52466, -73.88596], [45.075514, -122.927068], [45.49834, -122.7907], [30.288218, -97.723968], [41.95239, -88.03686], [38.619786, -90.189224], [42.7537, -73.9332], [47.487019, -100.288406], [40.731693, -73.722993], [26.09518, -80.168664], [41.134539, -73.29371], [45.229155, -122.968071], [32.885283, -86.621995], [42.97668, -85.678], [35.222715, -118.563712], [43.864274, -95.114919], [33.925933, -118.308112], [34.962689000000005, -90.010002], [34.145523, -117.29848], [42.53032, -83.11574], [37.253627, -121.931375], [34.010232, -117.069258], [41.15161, -74.02618000000002], [39.147816, -94.820262], [30.947828, -92.272787], [33.348387, -84.124234], [37.929233, -122.515671], [42.05604, -88.01859], [39.693742, -86.307338], [26.584907, -81.60495], [38.628084, -77.30684000000002], [25.934736, -80.290428], [33.996970000000005, -117.36584], [33.104851000000004, -117.092683], [37.13237700000001, -77.918244], [38.232421, -122.25932], [40.454023, -80.18073299999998]],\n",
              "                {&quot;blur&quot;: 15, &quot;maxZoom&quot;: 18, &quot;minOpacity&quot;: 0.5, &quot;radius&quot;: 25}\n",
              "            ).addTo(map_8f03685cc3c278b8ec9d4f939a3e2a5d);\n",
              "        \n",
              "&lt;/script&gt;\n",
              "&lt;/html&gt;\" style=\"position:absolute;width:100%;height:100%;left:0;top:0;border:none !important;\" allowfullscreen webkitallowfullscreen mozallowfullscreen></iframe></div></div>"
            ]
          },
          "metadata": {},
          "execution_count": 64
        }
      ]
    },
    {
      "cell_type": "code",
      "source": [],
      "metadata": {
        "id": "kspPr7Czgojn"
      },
      "execution_count": null,
      "outputs": []
    }
  ],
  "metadata": {
    "kernelspec": {
      "display_name": "Python 3",
      "language": "python",
      "name": "python3"
    },
    "language_info": {
      "codemirror_mode": {
        "name": "ipython",
        "version": 3
      },
      "file_extension": ".py",
      "mimetype": "text/x-python",
      "name": "python",
      "nbconvert_exporter": "python",
      "pygments_lexer": "ipython3",
      "version": "3.7.6"
    },
    "colab": {
      "provenance": []
    }
  },
  "nbformat": 4,
  "nbformat_minor": 0
}